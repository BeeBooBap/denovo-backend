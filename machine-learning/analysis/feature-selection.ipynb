{
 "cells": [
  {
   "cell_type": "code",
   "execution_count": 33,
   "metadata": {},
   "outputs": [
    {
     "data": {
      "text/html": [
       "<div>\n",
       "<style scoped>\n",
       "    .dataframe tbody tr th:only-of-type {\n",
       "        vertical-align: middle;\n",
       "    }\n",
       "\n",
       "    .dataframe tbody tr th {\n",
       "        vertical-align: top;\n",
       "    }\n",
       "\n",
       "    .dataframe thead th {\n",
       "        text-align: right;\n",
       "    }\n",
       "</style>\n",
       "<table border=\"1\" class=\"dataframe\">\n",
       "  <thead>\n",
       "    <tr style=\"text-align: right;\">\n",
       "      <th></th>\n",
       "      <th>caseId</th>\n",
       "      <th>docketId</th>\n",
       "      <th>caseIssuesId</th>\n",
       "      <th>voteId</th>\n",
       "      <th>dateDecision</th>\n",
       "      <th>decisionType</th>\n",
       "      <th>usCite</th>\n",
       "      <th>sctCite</th>\n",
       "      <th>ledCite</th>\n",
       "      <th>lexisCite</th>\n",
       "      <th>...</th>\n",
       "      <th>minVotes</th>\n",
       "      <th>justice</th>\n",
       "      <th>justiceName</th>\n",
       "      <th>vote</th>\n",
       "      <th>opinion</th>\n",
       "      <th>direction</th>\n",
       "      <th>majority</th>\n",
       "      <th>firstAgreement</th>\n",
       "      <th>secondAgreement</th>\n",
       "      <th>partyWinning</th>\n",
       "    </tr>\n",
       "  </thead>\n",
       "  <tbody>\n",
       "    <tr>\n",
       "      <th>0</th>\n",
       "      <td>1946-001</td>\n",
       "      <td>1946-001-01</td>\n",
       "      <td>1946-001-01-01</td>\n",
       "      <td>1946-001-01-01-01-01</td>\n",
       "      <td>11/18/1946</td>\n",
       "      <td>1</td>\n",
       "      <td>329 U.S. 1</td>\n",
       "      <td>67 S. Ct. 6</td>\n",
       "      <td>91 L. Ed. 3</td>\n",
       "      <td>1946 U.S. LEXIS 1724</td>\n",
       "      <td>...</td>\n",
       "      <td>1</td>\n",
       "      <td>86</td>\n",
       "      <td>HHBurton</td>\n",
       "      <td>2.0</td>\n",
       "      <td>1.0</td>\n",
       "      <td>1.0</td>\n",
       "      <td>1.0</td>\n",
       "      <td>NaN</td>\n",
       "      <td>NaN</td>\n",
       "      <td>1.0</td>\n",
       "    </tr>\n",
       "    <tr>\n",
       "      <th>1</th>\n",
       "      <td>1946-001</td>\n",
       "      <td>1946-001-01</td>\n",
       "      <td>1946-001-01-01</td>\n",
       "      <td>1946-001-01-01-01-02</td>\n",
       "      <td>11/18/1946</td>\n",
       "      <td>1</td>\n",
       "      <td>329 U.S. 1</td>\n",
       "      <td>67 S. Ct. 6</td>\n",
       "      <td>91 L. Ed. 3</td>\n",
       "      <td>1946 U.S. LEXIS 1724</td>\n",
       "      <td>...</td>\n",
       "      <td>1</td>\n",
       "      <td>84</td>\n",
       "      <td>RHJackson</td>\n",
       "      <td>1.0</td>\n",
       "      <td>1.0</td>\n",
       "      <td>2.0</td>\n",
       "      <td>2.0</td>\n",
       "      <td>NaN</td>\n",
       "      <td>NaN</td>\n",
       "      <td>1.0</td>\n",
       "    </tr>\n",
       "    <tr>\n",
       "      <th>2</th>\n",
       "      <td>1946-001</td>\n",
       "      <td>1946-001-01</td>\n",
       "      <td>1946-001-01-01</td>\n",
       "      <td>1946-001-01-01-01-03</td>\n",
       "      <td>11/18/1946</td>\n",
       "      <td>1</td>\n",
       "      <td>329 U.S. 1</td>\n",
       "      <td>67 S. Ct. 6</td>\n",
       "      <td>91 L. Ed. 3</td>\n",
       "      <td>1946 U.S. LEXIS 1724</td>\n",
       "      <td>...</td>\n",
       "      <td>1</td>\n",
       "      <td>81</td>\n",
       "      <td>WODouglas</td>\n",
       "      <td>1.0</td>\n",
       "      <td>1.0</td>\n",
       "      <td>2.0</td>\n",
       "      <td>2.0</td>\n",
       "      <td>NaN</td>\n",
       "      <td>NaN</td>\n",
       "      <td>1.0</td>\n",
       "    </tr>\n",
       "    <tr>\n",
       "      <th>3</th>\n",
       "      <td>1946-001</td>\n",
       "      <td>1946-001-01</td>\n",
       "      <td>1946-001-01-01</td>\n",
       "      <td>1946-001-01-01-01-04</td>\n",
       "      <td>11/18/1946</td>\n",
       "      <td>1</td>\n",
       "      <td>329 U.S. 1</td>\n",
       "      <td>67 S. Ct. 6</td>\n",
       "      <td>91 L. Ed. 3</td>\n",
       "      <td>1946 U.S. LEXIS 1724</td>\n",
       "      <td>...</td>\n",
       "      <td>1</td>\n",
       "      <td>80</td>\n",
       "      <td>FFrankfurter</td>\n",
       "      <td>4.0</td>\n",
       "      <td>2.0</td>\n",
       "      <td>2.0</td>\n",
       "      <td>2.0</td>\n",
       "      <td>NaN</td>\n",
       "      <td>NaN</td>\n",
       "      <td>1.0</td>\n",
       "    </tr>\n",
       "    <tr>\n",
       "      <th>4</th>\n",
       "      <td>1946-001</td>\n",
       "      <td>1946-001-01</td>\n",
       "      <td>1946-001-01-01</td>\n",
       "      <td>1946-001-01-01-01-05</td>\n",
       "      <td>11/18/1946</td>\n",
       "      <td>1</td>\n",
       "      <td>329 U.S. 1</td>\n",
       "      <td>67 S. Ct. 6</td>\n",
       "      <td>91 L. Ed. 3</td>\n",
       "      <td>1946 U.S. LEXIS 1724</td>\n",
       "      <td>...</td>\n",
       "      <td>1</td>\n",
       "      <td>79</td>\n",
       "      <td>SFReed</td>\n",
       "      <td>1.0</td>\n",
       "      <td>1.0</td>\n",
       "      <td>2.0</td>\n",
       "      <td>2.0</td>\n",
       "      <td>NaN</td>\n",
       "      <td>NaN</td>\n",
       "      <td>1.0</td>\n",
       "    </tr>\n",
       "  </tbody>\n",
       "</table>\n",
       "<p>5 rows × 62 columns</p>\n",
       "</div>"
      ],
      "text/plain": [
       "     caseId     docketId    caseIssuesId                voteId dateDecision  \\\n",
       "0  1946-001  1946-001-01  1946-001-01-01  1946-001-01-01-01-01   11/18/1946   \n",
       "1  1946-001  1946-001-01  1946-001-01-01  1946-001-01-01-01-02   11/18/1946   \n",
       "2  1946-001  1946-001-01  1946-001-01-01  1946-001-01-01-01-03   11/18/1946   \n",
       "3  1946-001  1946-001-01  1946-001-01-01  1946-001-01-01-01-04   11/18/1946   \n",
       "4  1946-001  1946-001-01  1946-001-01-01  1946-001-01-01-01-05   11/18/1946   \n",
       "\n",
       "   decisionType      usCite      sctCite      ledCite             lexisCite  \\\n",
       "0             1  329 U.S. 1  67 S. Ct. 6  91 L. Ed. 3  1946 U.S. LEXIS 1724   \n",
       "1             1  329 U.S. 1  67 S. Ct. 6  91 L. Ed. 3  1946 U.S. LEXIS 1724   \n",
       "2             1  329 U.S. 1  67 S. Ct. 6  91 L. Ed. 3  1946 U.S. LEXIS 1724   \n",
       "3             1  329 U.S. 1  67 S. Ct. 6  91 L. Ed. 3  1946 U.S. LEXIS 1724   \n",
       "4             1  329 U.S. 1  67 S. Ct. 6  91 L. Ed. 3  1946 U.S. LEXIS 1724   \n",
       "\n",
       "   ...  minVotes  justice   justiceName vote opinion direction majority  \\\n",
       "0  ...         1       86      HHBurton  2.0     1.0       1.0      1.0   \n",
       "1  ...         1       84     RHJackson  1.0     1.0       2.0      2.0   \n",
       "2  ...         1       81     WODouglas  1.0     1.0       2.0      2.0   \n",
       "3  ...         1       80  FFrankfurter  4.0     2.0       2.0      2.0   \n",
       "4  ...         1       79        SFReed  1.0     1.0       2.0      2.0   \n",
       "\n",
       "   firstAgreement  secondAgreement  partyWinning  \n",
       "0             NaN              NaN           1.0  \n",
       "1             NaN              NaN           1.0  \n",
       "2             NaN              NaN           1.0  \n",
       "3             NaN              NaN           1.0  \n",
       "4             NaN              NaN           1.0  \n",
       "\n",
       "[5 rows x 62 columns]"
      ]
     },
     "execution_count": 33,
     "metadata": {},
     "output_type": "execute_result"
    }
   ],
   "source": [
    "# Importing csv file\n",
    "import pandas as pd\n",
    "\n",
    "path = \"..\\dataset\\SCDB_2021.csv\"\n",
    "\n",
    "raw_df = pd.read_csv(path, encoding = 'cp1252')\n",
    "raw_df.head()"
   ]
  },
  {
   "cell_type": "code",
   "execution_count": 34,
   "metadata": {},
   "outputs": [
    {
     "name": "stdout",
     "output_type": "stream",
     "text": [
      "(122754, 62)\n"
     ]
    }
   ],
   "source": [
    "print(raw_df.shape)"
   ]
  },
  {
   "cell_type": "code",
   "execution_count": 35,
   "metadata": {},
   "outputs": [
    {
     "name": "stdout",
     "output_type": "stream",
     "text": [
      "partyWinning\n",
      "0.0    46355\n",
      "1.0    76165\n",
      "2.0       81\n",
      "dtype: int64\n"
     ]
    }
   ],
   "source": [
    "class_counts = raw_df.groupby('partyWinning').size()\n",
    "print(class_counts)"
   ]
  },
  {
   "cell_type": "code",
   "execution_count": 36,
   "metadata": {},
   "outputs": [
    {
     "name": "stderr",
     "output_type": "stream",
     "text": [
      "c:\\Users\\Ayesha\\AppData\\Local\\Programs\\Python\\Python310\\lib\\site-packages\\seaborn\\_decorators.py:36: FutureWarning: Pass the following variable as a keyword arg: x. From version 0.12, the only valid positional argument will be `data`, and passing other arguments without an explicit keyword will result in an error or misinterpretation.\n",
      "  warnings.warn(\n"
     ]
    },
    {
     "data": {
      "image/png": "[encoded data removed]",
      "text/plain": [
       "<Figure size 432x288 with 1 Axes>"
      ]
     },
     "metadata": {
      "needs_background": "light"
     },
     "output_type": "display_data"
    }
   ],
   "source": [
    "import seaborn as sns\n",
    "from matplotlib import pyplot as plt\n",
    "\n",
    "distribution = sns.countplot(raw_df['partyWinning'])\n",
    "distribution.set_xticklabels(['1', '2', '3'])\n",
    "\n",
    "plt.show()"
   ]
  },
  {
   "cell_type": "code",
   "execution_count": 37,
   "metadata": {},
   "outputs": [
    {
     "data": {
      "text/plain": [
       "caseId                  0\n",
       "docketId                0\n",
       "caseIssuesId            0\n",
       "voteId                  0\n",
       "dateDecision            0\n",
       "                    ...  \n",
       "direction            6882\n",
       "majority             4512\n",
       "firstAgreement     106382\n",
       "secondAgreement    120287\n",
       "partyWinning          153\n",
       "Length: 62, dtype: int64"
      ]
     },
     "execution_count": 37,
     "metadata": {},
     "output_type": "execute_result"
    }
   ],
   "source": [
    "# deal with null values\n",
    "\n",
    "raw_df.isnull().sum()"
   ]
  },
  {
   "cell_type": "code",
   "execution_count": 38,
   "metadata": {},
   "outputs": [
    {
     "name": "stdout",
     "output_type": "stream",
     "text": [
      "(122754, 48)\n"
     ]
    }
   ],
   "source": [
    "# drop features where null values > 15000\n",
    "\n",
    "df = raw_df.copy()\n",
    "\n",
    "for col in df.columns:\n",
    "    if df[col].isnull().sum() > 15000:\n",
    "        df.drop(col, axis=1, inplace=True)\n",
    "\n",
    "print(df.shape)"
   ]
  },
  {
   "cell_type": "code",
   "execution_count": 39,
   "metadata": {},
   "outputs": [],
   "source": [
    "# drop rows where partyWinning = null\n",
    "\n",
    "df.dropna(subset=['partyWinning'], inplace=True)"
   ]
  },
  {
   "cell_type": "code",
   "execution_count": 40,
   "metadata": {},
   "outputs": [
    {
     "data": {
      "text/plain": [
       "petitioner                     18\n",
       "respondent                     63\n",
       "jurisdiction                   18\n",
       "threeJudgeFdc                 198\n",
       "caseOrigin                   4105\n",
       "lcDisagreement                135\n",
       "certReason                   1133\n",
       "lcDispositionDirection       2127\n",
       "declarationUncon                9\n",
       "caseDisposition              1472\n",
       "caseDispositionUnusual          9\n",
       "precedentAlteration             9\n",
       "voteUnclear                    18\n",
       "issue                         458\n",
       "issueArea                     458\n",
       "decisionDirection             224\n",
       "decisionDirectionDissent     1979\n",
       "authorityDecision1            485\n",
       "lawType                     14433\n",
       "lawSupp                     14433\n",
       "vote                         3439\n",
       "opinion                      3448\n",
       "direction                    6738\n",
       "majority                     4368\n",
       "dtype: int64"
      ]
     },
     "execution_count": 40,
     "metadata": {},
     "output_type": "execute_result"
    }
   ],
   "source": [
    "df = df.drop(['usCite', 'lexisCite', 'ledCite', 'docket', 'dateArgument', 'sctCite', 'docketId', 'caseId', \n",
    "'caseIssuesId', 'voteId', 'majOpinAssigner', 'caseSource', 'caseName', 'chief', 'justiceName', 'justice'], axis=1)\n",
    "\n",
    "df[df.columns[df.isnull().any()]].isnull().sum()"
   ]
  },
  {
   "cell_type": "code",
   "execution_count": 41,
   "metadata": {},
   "outputs": [],
   "source": [
    "# drop rows where lawSupp = null\n",
    "df.dropna(subset=['lawSupp'], inplace=True)"
   ]
  },
  {
   "cell_type": "code",
   "execution_count": 42,
   "metadata": {},
   "outputs": [],
   "source": [
    "df['direction'] = df['direction'].fillna(3)\n",
    "df['opinion'] = df['opinion'].fillna(1)"
   ]
  },
  {
   "cell_type": "code",
   "execution_count": 43,
   "metadata": {},
   "outputs": [
    {
     "name": "stdout",
     "output_type": "stream",
     "text": [
      "(108168, 32)\n",
      "Index(['dateDecision', 'decisionType', 'term', 'naturalCourt', 'petitioner',\n",
      "       'respondent', 'jurisdiction', 'threeJudgeFdc', 'caseOrigin',\n",
      "       'lcDisagreement', 'certReason', 'lcDispositionDirection',\n",
      "       'declarationUncon', 'caseDisposition', 'caseDispositionUnusual',\n",
      "       'precedentAlteration', 'voteUnclear', 'issue', 'issueArea',\n",
      "       'decisionDirection', 'decisionDirectionDissent', 'authorityDecision1',\n",
      "       'lawType', 'lawSupp', 'splitVote', 'majVotes', 'minVotes', 'vote',\n",
      "       'opinion', 'direction', 'majority', 'partyWinning'],\n",
      "      dtype='object')\n"
     ]
    }
   ],
   "source": [
    "print(df.shape)\n",
    "print(df.columns)"
   ]
  },
  {
   "cell_type": "code",
   "execution_count": 44,
   "metadata": {},
   "outputs": [],
   "source": [
    "# Mode imputation for remaining null values\n",
    "\n",
    "for col in df.columns:\n",
    "    df[col] = df[col].fillna(df[col].mode()[0])"
   ]
  },
  {
   "cell_type": "code",
   "execution_count": 45,
   "metadata": {},
   "outputs": [],
   "source": [
    "# encode string (object) variables - prepare input data\n",
    "from sklearn.preprocessing import LabelEncoder\n",
    "\n",
    "for col in df.columns:\n",
    "    if df[col].dtype == object:\n",
    "        df[col] = LabelEncoder().fit_transform(df[col])"
   ]
  },
  {
   "cell_type": "code",
   "execution_count": 46,
   "metadata": {},
   "outputs": [],
   "source": [
    "array = df.values\n",
    "X = array[:,0:31]\n",
    "Y = array[:, 31]"
   ]
  },
  {
   "cell_type": "code",
   "execution_count": 47,
   "metadata": {},
   "outputs": [
    {
     "name": "stdout",
     "output_type": "stream",
     "text": [
      "Before Counter({1.0: 66672, 0.0: 41424, 2.0: 72})\n",
      "After Counter({2.0: 66672, 1.0: 66630, 0.0: 66626})\n"
     ]
    }
   ],
   "source": [
    "# Class balancing\n",
    "\n",
    "from imblearn.combine import SMOTEENN\n",
    "from collections import Counter\n",
    "\n",
    "counter = Counter(Y)\n",
    "print('Before', counter)\n",
    "\n",
    "smenn = SMOTEENN()\n",
    "X_smenn, y_smenn = smenn.fit_resample(X, Y)\n",
    "\n",
    "counter = Counter(y_smenn)\n",
    "print('After', counter)"
   ]
  },
  {
   "cell_type": "code",
   "execution_count": 48,
   "metadata": {},
   "outputs": [
    {
     "name": "stdout",
     "output_type": "stream",
     "text": [
      "Selected Features: ['dateDecision', 'term', 'respondent', 'caseDisposition', 'issue']\n",
      "Accuracy: 0.809 (0.216)\n"
     ]
    }
   ],
   "source": [
    "# Feature Extraction with RFE\n",
    "from sklearn.feature_selection import RFE\n",
    "from sklearn.tree import DecisionTreeClassifier\n",
    "import matplotlib.pyplot as plt\n",
    "from sklearn.model_selection import KFold\n",
    "from sklearn.model_selection import cross_val_score\n",
    "from sklearn.model_selection import StratifiedKFold\n",
    "from numpy import mean\n",
    "from numpy import std\n",
    "\n",
    "# feature extraction\n",
    "model = DecisionTreeClassifier()\n",
    "rfe = RFE(model, n_features_to_select=5)\n",
    "dc_fit = rfe.fit(X, Y)\n",
    "\n",
    "#kfold = KFold(n_splits=10)\n",
    "cv = StratifiedKFold(n_splits=10)\n",
    "results = cross_val_score(model, X, Y, cv=cv)\n",
    "\n",
    "selected_features = []\n",
    "\n",
    "for x in range(len(dc_fit.ranking_)):\n",
    "  if (dc_fit.ranking_[x] == 1) :\n",
    "    selected_features.append(df.columns[x])\n",
    "\n",
    "print(\"Selected Features: %s\" % selected_features)\n",
    "print('Accuracy: %.3f (%.3f)' % (mean(results), std(results)))"
   ]
  },
  {
   "cell_type": "code",
   "execution_count": 49,
   "metadata": {},
   "outputs": [
    {
     "name": "stdout",
     "output_type": "stream",
     "text": [
      "Selected Features: ['dateDecision', 'term', 'caseOrigin', 'caseDisposition', 'decisionDirection']\n",
      "Accuracy: 0.868 (0.111)\n"
     ]
    }
   ],
   "source": [
    "# feature extraction\n",
    "model2 = DecisionTreeClassifier(random_state=1)\n",
    "rfe2 = RFE(model2, n_features_to_select=5)\n",
    "dc_fit2 = rfe2.fit(X_smenn, y_smenn)\n",
    "\n",
    "cv = StratifiedKFold(n_splits=10)\n",
    "results2 = cross_val_score(model2, X_smenn, y_smenn, cv=cv)\n",
    "\n",
    "selected_features2 = []\n",
    "\n",
    "for x in range(len(dc_fit2.ranking_)):\n",
    "  if (dc_fit2.ranking_[x] == 1) :\n",
    "    selected_features2.append(df.columns[x])\n",
    "\n",
    "print(\"Selected Features: %s\" % selected_features2)\n",
    "print('Accuracy: %.3f (%.3f)' % (mean(results2), std(results2)))"
   ]
  }
 ],
 "metadata": {
  "kernelspec": {
   "display_name": "Python 3.10.2 64-bit",
   "language": "python",
   "name": "python3"
  },
  "language_info": {
   "name": "python",
   "version": "3.10.2"
  },
  "orig_nbformat": 4,
  "vscode": {
   "interpreter": {
    "hash": "16b7e214aa145f7720106a2cafcdd43ba3ba05cc8ef90356c3af2da1d208ebb5"
   }
  }
 },
 "nbformat": 4,
 "nbformat_minor": 2
}
