{
 "cells": [
  {
   "cell_type": "code",
   "execution_count": 1,
   "metadata": {},
   "outputs": [],
   "source": [
    "# Importing csv file\n",
    "import pandas as pd\n",
    "\n",
    "path = \"..\\dataset\\SCDB_2021.csv\"\n",
    "\n",
    "raw_df = pd.read_csv(path, encoding = 'cp1252')"
   ]
  },
  {
   "cell_type": "code",
   "execution_count": 2,
   "metadata": {},
   "outputs": [
    {
     "data": {
      "text/html": [
       "<div>\n",
       "<style scoped>\n",
       "    .dataframe tbody tr th:only-of-type {\n",
       "        vertical-align: middle;\n",
       "    }\n",
       "\n",
       "    .dataframe tbody tr th {\n",
       "        vertical-align: top;\n",
       "    }\n",
       "\n",
       "    .dataframe thead th {\n",
       "        text-align: right;\n",
       "    }\n",
       "</style>\n",
       "<table border=\"1\" class=\"dataframe\">\n",
       "  <thead>\n",
       "    <tr style=\"text-align: right;\">\n",
       "      <th></th>\n",
       "      <th>dateDecision</th>\n",
       "      <th>term</th>\n",
       "      <th>respondent</th>\n",
       "      <th>caseOrigin</th>\n",
       "      <th>issue</th>\n",
       "      <th>partyWinning</th>\n",
       "    </tr>\n",
       "  </thead>\n",
       "  <tbody>\n",
       "    <tr>\n",
       "      <th>0</th>\n",
       "      <td>11/18/1946</td>\n",
       "      <td>1946</td>\n",
       "      <td>172.0</td>\n",
       "      <td>51.0</td>\n",
       "      <td>80180.0</td>\n",
       "      <td>1.0</td>\n",
       "    </tr>\n",
       "    <tr>\n",
       "      <th>1</th>\n",
       "      <td>11/18/1946</td>\n",
       "      <td>1946</td>\n",
       "      <td>172.0</td>\n",
       "      <td>51.0</td>\n",
       "      <td>80180.0</td>\n",
       "      <td>1.0</td>\n",
       "    </tr>\n",
       "    <tr>\n",
       "      <th>2</th>\n",
       "      <td>11/18/1946</td>\n",
       "      <td>1946</td>\n",
       "      <td>172.0</td>\n",
       "      <td>51.0</td>\n",
       "      <td>80180.0</td>\n",
       "      <td>1.0</td>\n",
       "    </tr>\n",
       "    <tr>\n",
       "      <th>3</th>\n",
       "      <td>11/18/1946</td>\n",
       "      <td>1946</td>\n",
       "      <td>172.0</td>\n",
       "      <td>51.0</td>\n",
       "      <td>80180.0</td>\n",
       "      <td>1.0</td>\n",
       "    </tr>\n",
       "    <tr>\n",
       "      <th>4</th>\n",
       "      <td>11/18/1946</td>\n",
       "      <td>1946</td>\n",
       "      <td>172.0</td>\n",
       "      <td>51.0</td>\n",
       "      <td>80180.0</td>\n",
       "      <td>1.0</td>\n",
       "    </tr>\n",
       "  </tbody>\n",
       "</table>\n",
       "</div>"
      ],
      "text/plain": [
       "  dateDecision  term  respondent  caseOrigin    issue  partyWinning\n",
       "0   11/18/1946  1946       172.0        51.0  80180.0           1.0\n",
       "1   11/18/1946  1946       172.0        51.0  80180.0           1.0\n",
       "2   11/18/1946  1946       172.0        51.0  80180.0           1.0\n",
       "3   11/18/1946  1946       172.0        51.0  80180.0           1.0\n",
       "4   11/18/1946  1946       172.0        51.0  80180.0           1.0"
      ]
     },
     "execution_count": 2,
     "metadata": {},
     "output_type": "execute_result"
    }
   ],
   "source": [
    "# keep only 10 optimal features - based on RFE\n",
    "\n",
    "df = raw_df[['dateDecision', 'term', 'respondent', 'caseOrigin', 'issue', 'partyWinning']]\n",
    "\n",
    "df.head()"
   ]
  },
  {
   "cell_type": "code",
   "execution_count": 3,
   "metadata": {},
   "outputs": [
    {
     "data": {
      "text/plain": [
       "(122754, 6)"
      ]
     },
     "execution_count": 3,
     "metadata": {},
     "output_type": "execute_result"
    }
   ],
   "source": [
    "df.shape"
   ]
  },
  {
   "cell_type": "code",
   "execution_count": 4,
   "metadata": {},
   "outputs": [
    {
     "name": "stdout",
     "output_type": "stream",
     "text": [
      "partyWinning\n",
      "0.0    46355\n",
      "1.0    76165\n",
      "2.0       81\n",
      "dtype: int64\n"
     ]
    }
   ],
   "source": [
    "class_counts = df.groupby('partyWinning').size()\n",
    "print(class_counts)"
   ]
  },
  {
   "cell_type": "code",
   "execution_count": 5,
   "metadata": {},
   "outputs": [
    {
     "data": {
      "image/png": "[encoded data removed]",
      "text/plain": [
       "<Figure size 576x396 with 9 Axes>"
      ]
     },
     "metadata": {
      "needs_background": "light"
     },
     "output_type": "display_data"
    }
   ],
   "source": [
    "# Univariate Density Plots\n",
    "from matplotlib import pyplot\n",
    "\n",
    "pyplot.rcParams[\"figure.figsize\"] = (8,5.5)\n",
    "\n",
    "df.plot(kind='density', subplots=True, layout=(3,3), sharex=False) \n",
    "pyplot.show()"
   ]
  },
  {
   "cell_type": "code",
   "execution_count": 6,
   "metadata": {},
   "outputs": [
    {
     "name": "stdout",
     "output_type": "stream",
     "text": [
      "object\n",
      "int64\n",
      "float64\n",
      "float64\n",
      "float64\n",
      "float64\n"
     ]
    }
   ],
   "source": [
    "for col in df:\n",
    "    print(df[col].dtype)"
   ]
  },
  {
   "cell_type": "code",
   "execution_count": 7,
   "metadata": {},
   "outputs": [
    {
     "data": {
      "text/plain": [
       "respondent        72\n",
       "caseOrigin      4213\n",
       "issue            602\n",
       "partyWinning     153\n",
       "dtype: int64"
      ]
     },
     "execution_count": 7,
     "metadata": {},
     "output_type": "execute_result"
    }
   ],
   "source": [
    "df[df.columns[df.isnull().any()]].isnull().sum()"
   ]
  },
  {
   "cell_type": "code",
   "execution_count": 8,
   "metadata": {},
   "outputs": [
    {
     "name": "stderr",
     "output_type": "stream",
     "text": [
      "C:\\Users\\Ayesha\\AppData\\Local\\Temp\\ipykernel_1788\\3883393816.py:3: SettingWithCopyWarning: \n",
      "A value is trying to be set on a copy of a slice from a DataFrame\n",
      "\n",
      "See the caveats in the documentation: https://pandas.pydata.org/pandas-docs/stable/user_guide/indexing.html#returning-a-view-versus-a-copy\n",
      "  df.dropna(subset=['respondent'], inplace=True)\n",
      "C:\\Users\\Ayesha\\AppData\\Local\\Temp\\ipykernel_1788\\3883393816.py:4: SettingWithCopyWarning: \n",
      "A value is trying to be set on a copy of a slice from a DataFrame\n",
      "\n",
      "See the caveats in the documentation: https://pandas.pydata.org/pandas-docs/stable/user_guide/indexing.html#returning-a-view-versus-a-copy\n",
      "  df.dropna(subset=['caseOrigin'], inplace=True)\n",
      "C:\\Users\\Ayesha\\AppData\\Local\\Temp\\ipykernel_1788\\3883393816.py:5: SettingWithCopyWarning: \n",
      "A value is trying to be set on a copy of a slice from a DataFrame\n",
      "\n",
      "See the caveats in the documentation: https://pandas.pydata.org/pandas-docs/stable/user_guide/indexing.html#returning-a-view-versus-a-copy\n",
      "  df.dropna(subset=['issue'], inplace=True)\n",
      "C:\\Users\\Ayesha\\AppData\\Local\\Temp\\ipykernel_1788\\3883393816.py:6: SettingWithCopyWarning: \n",
      "A value is trying to be set on a copy of a slice from a DataFrame\n",
      "\n",
      "See the caveats in the documentation: https://pandas.pydata.org/pandas-docs/stable/user_guide/indexing.html#returning-a-view-versus-a-copy\n",
      "  df.dropna(subset=['partyWinning'], inplace=True)\n"
     ]
    },
    {
     "data": {
      "text/plain": [
       "Series([], dtype: float64)"
      ]
     },
     "execution_count": 8,
     "metadata": {},
     "output_type": "execute_result"
    }
   ],
   "source": [
    "# dropping rows where null values\n",
    "\n",
    "df.dropna(subset=['respondent'], inplace=True)\n",
    "df.dropna(subset=['caseOrigin'], inplace=True)\n",
    "df.dropna(subset=['issue'], inplace=True)\n",
    "df.dropna(subset=['partyWinning'], inplace=True)\n",
    "\n",
    "df[df.columns[df.isnull().any()]].isnull().sum()"
   ]
  },
  {
   "cell_type": "code",
   "execution_count": 9,
   "metadata": {},
   "outputs": [
    {
     "name": "stderr",
     "output_type": "stream",
     "text": [
      "C:\\Users\\Ayesha\\AppData\\Local\\Temp\\ipykernel_1788\\2514450720.py:5: SettingWithCopyWarning: \n",
      "A value is trying to be set on a copy of a slice from a DataFrame.\n",
      "Try using .loc[row_indexer,col_indexer] = value instead\n",
      "\n",
      "See the caveats in the documentation: https://pandas.pydata.org/pandas-docs/stable/user_guide/indexing.html#returning-a-view-versus-a-copy\n",
      "  df['dateDecision'] = LabelEncoder().fit_transform(df['dateDecision'])\n"
     ]
    }
   ],
   "source": [
    "# encoding date decision\n",
    "\n",
    "from sklearn.preprocessing import LabelEncoder\n",
    "\n",
    "df['dateDecision'] = LabelEncoder().fit_transform(df['dateDecision'])"
   ]
  },
  {
   "cell_type": "code",
   "execution_count": 10,
   "metadata": {},
   "outputs": [
    {
     "name": "stderr",
     "output_type": "stream",
     "text": [
      "C:\\Users\\Ayesha\\AppData\\Local\\Temp\\ipykernel_1788\\4035766184.py:3: SettingWithCopyWarning: \n",
      "A value is trying to be set on a copy of a slice from a DataFrame.\n",
      "Try using .loc[row_indexer,col_indexer] = value instead\n",
      "\n",
      "See the caveats in the documentation: https://pandas.pydata.org/pandas-docs/stable/user_guide/indexing.html#returning-a-view-versus-a-copy\n",
      "  df['respondent'] = df['respondent'].apply(int)\n",
      "C:\\Users\\Ayesha\\AppData\\Local\\Temp\\ipykernel_1788\\4035766184.py:4: SettingWithCopyWarning: \n",
      "A value is trying to be set on a copy of a slice from a DataFrame.\n",
      "Try using .loc[row_indexer,col_indexer] = value instead\n",
      "\n",
      "See the caveats in the documentation: https://pandas.pydata.org/pandas-docs/stable/user_guide/indexing.html#returning-a-view-versus-a-copy\n",
      "  df['caseOrigin'] = df['caseOrigin'].apply(int)\n",
      "C:\\Users\\Ayesha\\AppData\\Local\\Temp\\ipykernel_1788\\4035766184.py:5: SettingWithCopyWarning: \n",
      "A value is trying to be set on a copy of a slice from a DataFrame.\n",
      "Try using .loc[row_indexer,col_indexer] = value instead\n",
      "\n",
      "See the caveats in the documentation: https://pandas.pydata.org/pandas-docs/stable/user_guide/indexing.html#returning-a-view-versus-a-copy\n",
      "  df['issue'] = df['issue'].apply(int)\n",
      "C:\\Users\\Ayesha\\AppData\\Local\\Temp\\ipykernel_1788\\4035766184.py:6: SettingWithCopyWarning: \n",
      "A value is trying to be set on a copy of a slice from a DataFrame.\n",
      "Try using .loc[row_indexer,col_indexer] = value instead\n",
      "\n",
      "See the caveats in the documentation: https://pandas.pydata.org/pandas-docs/stable/user_guide/indexing.html#returning-a-view-versus-a-copy\n",
      "  df['dateDecision'] = df['dateDecision'].apply(int)\n",
      "C:\\Users\\Ayesha\\AppData\\Local\\Temp\\ipykernel_1788\\4035766184.py:7: SettingWithCopyWarning: \n",
      "A value is trying to be set on a copy of a slice from a DataFrame.\n",
      "Try using .loc[row_indexer,col_indexer] = value instead\n",
      "\n",
      "See the caveats in the documentation: https://pandas.pydata.org/pandas-docs/stable/user_guide/indexing.html#returning-a-view-versus-a-copy\n",
      "  df['partyWinning'] = df['partyWinning'].apply(int)\n"
     ]
    }
   ],
   "source": [
    "# converting floats to ints\n",
    "\n",
    "df['respondent'] = df['respondent'].apply(int)\n",
    "df['caseOrigin'] = df['caseOrigin'].apply(int)\n",
    "df['issue'] = df['issue'].apply(int)\n",
    "df['dateDecision'] = df['dateDecision'].apply(int)\n",
    "df['partyWinning'] = df['partyWinning'].apply(int)"
   ]
  },
  {
   "cell_type": "code",
   "execution_count": 11,
   "metadata": {},
   "outputs": [],
   "source": [
    "# split a dataset into train and test sets\n",
    "from sklearn.model_selection import train_test_split\n",
    "import numpy\n",
    "\n",
    "array = df.values\n",
    "X = array[:,0:5]\n",
    "Y = array[:, 5]"
   ]
  },
  {
   "cell_type": "code",
   "execution_count": 12,
   "metadata": {},
   "outputs": [
    {
     "name": "stdout",
     "output_type": "stream",
     "text": [
      "(79206, 5) (39012, 5) (79206, 3) (39012, 3)\n"
     ]
    }
   ],
   "source": [
    "# split into train test sets\n",
    "from collections import Counter\n",
    "import keras.api._v2.keras as keras\n",
    "\n",
    "y_onehot = keras.utils.to_categorical(Y, num_classes=3)\n",
    "\n",
    "X_train, X_test, y_train, y_test = train_test_split(X, y_onehot, test_size=0.33, random_state=7, stratify=y_onehot) # stratify to balance classes\n",
    "\n",
    "print(X_train.shape, X_test.shape, y_train.shape, y_test.shape)"
   ]
  },
  {
   "cell_type": "code",
   "execution_count": 13,
   "metadata": {},
   "outputs": [
    {
     "name": "stdout",
     "output_type": "stream",
     "text": [
      "(79206, 5)\n"
     ]
    }
   ],
   "source": [
    "# normalize the dataset\n",
    "from sklearn.preprocessing import MinMaxScaler\n",
    "\n",
    "scaler = MinMaxScaler(feature_range=(0, 1))\n",
    "X_train = scaler.fit_transform(X_train)\n",
    "X_test = scaler.fit_transform(X_test)\n",
    "\n",
    "print(X_train.shape)"
   ]
  },
  {
   "cell_type": "code",
   "execution_count": 14,
   "metadata": {},
   "outputs": [],
   "source": [
    "X_train = numpy.reshape(X_train, (X_train.shape[0], X_train.shape[1] , 1))\n",
    "X_test = numpy.reshape(X_test, (X_test.shape[0], X_test.shape[1] , 1))"
   ]
  },
  {
   "cell_type": "code",
   "execution_count": 15,
   "metadata": {},
   "outputs": [
    {
     "name": "stdout",
     "output_type": "stream",
     "text": [
      "79206\n",
      "5\n"
     ]
    }
   ],
   "source": [
    "print(X_train.shape[0])\n",
    "print(X_train.shape[1])"
   ]
  },
  {
   "cell_type": "code",
   "execution_count": 16,
   "metadata": {},
   "outputs": [],
   "source": [
    "import keras.api._v2.keras as keras\n",
    "import tensorflow as tf\n",
    "from keras.models import Sequential\n",
    "from keras.callbacks import EarlyStopping\n",
    "from sklearn.metrics import confusion_matrix, plot_confusion_matrix\n",
    "from keras.layers import Conv1D, MaxPool1D, Flatten, Dropout, Dense, BatchNormalization, Activation, GaussianNoise, LSTM, Embedding, MaxPooling1D\n",
    "from sklearn.metrics import accuracy_score\n",
    "from keras.optimizers import Adam\n",
    "from keras.losses import BinaryCrossentropy\n",
    "from keras.regularizers import l1\n",
    "from keras.optimizers import SGD\n"
   ]
  },
  {
   "cell_type": "code",
   "execution_count": 17,
   "metadata": {},
   "outputs": [],
   "source": [
    "model = Sequential()\n",
    "\n",
    "#—Applying LSTM layer for context information extraction\n",
    "LSTM_layer = LSTM(64, input_shape=(X_train.shape[1],X_train.shape[2]), return_sequences=True)\n",
    "model.add(LSTM_layer)\n",
    "\n",
    "dense_layer = Dense(125)\n",
    "model.add(dense_layer)\n",
    "\n",
    "# CNN layer\n",
    "CNN_layer = Conv1D(filters=32, kernel_size=5, strides=1, padding ='same', activation ='relu')\n",
    "model.add(CNN_layer)\n",
    "\n",
    "#—MaxPooling layer\n",
    "max_pool = MaxPooling1D(pool_size=2, strides=2)\n",
    "model.add(max_pool)\n",
    "\n",
    "# CNN layer\n",
    "CNN_layer = Conv1D(filters=64, kernel_size=5, strides=1, padding ='same', activation ='relu')\n",
    "model.add(CNN_layer)\n",
    "\n",
    "#—MaxPooling layer\n",
    "max_pool = MaxPooling1D(pool_size=2, strides=2)\n",
    "model.add(max_pool)\n",
    "\n",
    "dense_layer = Dense(1000, activation='relu')\n",
    "model.add(dense_layer)\n",
    "\n",
    "#—Flattening layer\n",
    "flatten = Flatten()\n",
    "model.add(flatten)\n",
    "\n",
    "#—Prediction of court case judgement using Softmax function in dense layer\n",
    "outp = Dense(3, activation=\"softmax\")\n",
    "model.add(outp)"
   ]
  },
  {
   "cell_type": "code",
   "execution_count": 18,
   "metadata": {},
   "outputs": [
    {
     "name": "stdout",
     "output_type": "stream",
     "text": [
      "Model: \"sequential\"\n",
      "________________________________________________________________________________________\n",
      " Layer (type)                          Output Shape                       Param #       \n",
      "========================================================================================\n",
      " lstm (LSTM)                           (None, 5, 64)                      16896         \n",
      "                                                                                        \n",
      " dense (Dense)                         (None, 5, 125)                     8125          \n",
      "                                                                                        \n",
      " conv1d (Conv1D)                       (None, 5, 32)                      20032         \n",
      "                                                                                        \n",
      " max_pooling1d (MaxPooling1D)          (None, 2, 32)                      0             \n",
      "                                                                                        \n",
      " conv1d_1 (Conv1D)                     (None, 2, 64)                      10304         \n",
      "                                                                                        \n",
      " max_pooling1d_1 (MaxPooling1D)        (None, 1, 64)                      0             \n",
      "                                                                                        \n",
      " dense_1 (Dense)                       (None, 1, 1000)                    65000         \n",
      "                                                                                        \n",
      " flatten (Flatten)                     (None, 1000)                       0             \n",
      "                                                                                        \n",
      " dense_2 (Dense)                       (None, 3)                          3003          \n",
      "                                                                                        \n",
      "========================================================================================\n",
      "Total params: 123,360\n",
      "Trainable params: 123,360\n",
      "Non-trainable params: 0\n",
      "________________________________________________________________________________________\n",
      "Epoch 1/125\n",
      "415/415 - 12s - loss: 0.6746 - accuracy: 0.6291 - val_loss: 0.6649 - val_accuracy: 0.6274 - 12s/epoch - 28ms/step\n",
      "Epoch 2/125\n",
      "415/415 - 8s - loss: 0.6615 - accuracy: 0.6310 - val_loss: 0.6509 - val_accuracy: 0.6406 - 8s/epoch - 18ms/step\n",
      "Epoch 3/125\n",
      "415/415 - 8s - loss: 0.6444 - accuracy: 0.6438 - val_loss: 0.6333 - val_accuracy: 0.6601 - 8s/epoch - 19ms/step\n",
      "Epoch 4/125\n",
      "415/415 - 8s - loss: 0.6315 - accuracy: 0.6556 - val_loss: 0.6234 - val_accuracy: 0.6621 - 8s/epoch - 20ms/step\n",
      "Epoch 5/125\n",
      "415/415 - 8s - loss: 0.6219 - accuracy: 0.6621 - val_loss: 0.6157 - val_accuracy: 0.6649 - 8s/epoch - 20ms/step\n",
      "Epoch 6/125\n",
      "415/415 - 9s - loss: 0.6106 - accuracy: 0.6718 - val_loss: 0.6056 - val_accuracy: 0.6722 - 9s/epoch - 21ms/step\n",
      "Epoch 7/125\n",
      "415/415 - 13s - loss: 0.5999 - accuracy: 0.6797 - val_loss: 0.5967 - val_accuracy: 0.6767 - 13s/epoch - 31ms/step\n",
      "Epoch 8/125\n",
      "415/415 - 11s - loss: 0.5873 - accuracy: 0.6876 - val_loss: 0.5956 - val_accuracy: 0.6808 - 11s/epoch - 26ms/step\n",
      "Epoch 9/125\n",
      "415/415 - 11s - loss: 0.5746 - accuracy: 0.6998 - val_loss: 0.5736 - val_accuracy: 0.6997 - 11s/epoch - 26ms/step\n",
      "Epoch 10/125\n",
      "415/415 - 10s - loss: 0.5602 - accuracy: 0.7108 - val_loss: 0.5631 - val_accuracy: 0.7056 - 10s/epoch - 25ms/step\n",
      "Epoch 11/125\n",
      "415/415 - 10s - loss: 0.5461 - accuracy: 0.7207 - val_loss: 0.5418 - val_accuracy: 0.7222 - 10s/epoch - 25ms/step\n",
      "Epoch 12/125\n",
      "415/415 - 11s - loss: 0.5300 - accuracy: 0.7311 - val_loss: 0.5432 - val_accuracy: 0.7201 - 11s/epoch - 25ms/step\n",
      "Epoch 13/125\n",
      "415/415 - 10s - loss: 0.5145 - accuracy: 0.7428 - val_loss: 0.5212 - val_accuracy: 0.7315 - 10s/epoch - 25ms/step\n",
      "Epoch 14/125\n",
      "415/415 - 10s - loss: 0.4984 - accuracy: 0.7527 - val_loss: 0.5075 - val_accuracy: 0.7457 - 10s/epoch - 25ms/step\n",
      "Epoch 15/125\n",
      "415/415 - 12s - loss: 0.4808 - accuracy: 0.7641 - val_loss: 0.4923 - val_accuracy: 0.7580 - 12s/epoch - 29ms/step\n",
      "Epoch 16/125\n",
      "415/415 - 12s - loss: 0.4608 - accuracy: 0.7761 - val_loss: 0.4877 - val_accuracy: 0.7660 - 12s/epoch - 29ms/step\n",
      "Epoch 17/125\n",
      "415/415 - 11s - loss: 0.4489 - accuracy: 0.7842 - val_loss: 0.4627 - val_accuracy: 0.7778 - 11s/epoch - 26ms/step\n",
      "Epoch 18/125\n",
      "415/415 - 11s - loss: 0.4292 - accuracy: 0.7963 - val_loss: 0.4411 - val_accuracy: 0.7885 - 11s/epoch - 25ms/step\n",
      "Epoch 19/125\n",
      "415/415 - 10s - loss: 0.4149 - accuracy: 0.8053 - val_loss: 0.4498 - val_accuracy: 0.7866 - 10s/epoch - 25ms/step\n",
      "Epoch 20/125\n",
      "415/415 - 11s - loss: 0.3974 - accuracy: 0.8163 - val_loss: 0.4246 - val_accuracy: 0.7974 - 11s/epoch - 27ms/step\n",
      "Epoch 21/125\n",
      "415/415 - 11s - loss: 0.3853 - accuracy: 0.8227 - val_loss: 0.4140 - val_accuracy: 0.8053 - 11s/epoch - 25ms/step\n",
      "Epoch 22/125\n",
      "415/415 - 11s - loss: 0.3676 - accuracy: 0.8332 - val_loss: 0.4131 - val_accuracy: 0.8107 - 11s/epoch - 27ms/step\n",
      "Epoch 23/125\n",
      "415/415 - 12s - loss: 0.3554 - accuracy: 0.8398 - val_loss: 0.3954 - val_accuracy: 0.8198 - 12s/epoch - 28ms/step\n",
      "Epoch 24/125\n",
      "415/415 - 11s - loss: 0.3419 - accuracy: 0.8469 - val_loss: 0.3725 - val_accuracy: 0.8302 - 11s/epoch - 26ms/step\n",
      "Epoch 25/125\n",
      "415/415 - 11s - loss: 0.3294 - accuracy: 0.8537 - val_loss: 0.3732 - val_accuracy: 0.8349 - 11s/epoch - 26ms/step\n",
      "Epoch 26/125\n",
      "415/415 - 11s - loss: 0.3190 - accuracy: 0.8609 - val_loss: 0.3493 - val_accuracy: 0.8469 - 11s/epoch - 27ms/step\n",
      "Epoch 27/125\n",
      "415/415 - 11s - loss: 0.3028 - accuracy: 0.8688 - val_loss: 0.3360 - val_accuracy: 0.8552 - 11s/epoch - 26ms/step\n",
      "Epoch 28/125\n",
      "415/415 - 11s - loss: 0.2934 - accuracy: 0.8729 - val_loss: 0.3280 - val_accuracy: 0.8553 - 11s/epoch - 27ms/step\n",
      "Epoch 29/125\n",
      "415/415 - 12s - loss: 0.2897 - accuracy: 0.8738 - val_loss: 0.3226 - val_accuracy: 0.8627 - 12s/epoch - 30ms/step\n",
      "Epoch 30/125\n",
      "415/415 - 12s - loss: 0.2762 - accuracy: 0.8820 - val_loss: 0.3112 - val_accuracy: 0.8707 - 12s/epoch - 30ms/step\n",
      "Epoch 31/125\n",
      "415/415 - 11s - loss: 0.2669 - accuracy: 0.8860 - val_loss: 0.3239 - val_accuracy: 0.8623 - 11s/epoch - 27ms/step\n",
      "Epoch 32/125\n",
      "415/415 - 11s - loss: 0.2633 - accuracy: 0.8863 - val_loss: 0.3003 - val_accuracy: 0.8714 - 11s/epoch - 26ms/step\n",
      "Epoch 33/125\n",
      "415/415 - 11s - loss: 0.2473 - accuracy: 0.8958 - val_loss: 0.2806 - val_accuracy: 0.8825 - 11s/epoch - 26ms/step\n",
      "Epoch 34/125\n",
      "415/415 - 12s - loss: 0.2424 - accuracy: 0.8974 - val_loss: 0.2761 - val_accuracy: 0.8843 - 12s/epoch - 28ms/step\n",
      "Epoch 35/125\n",
      "415/415 - 11s - loss: 0.2402 - accuracy: 0.8976 - val_loss: 0.2648 - val_accuracy: 0.8861 - 11s/epoch - 26ms/step\n",
      "Epoch 36/125\n",
      "415/415 - 14s - loss: 0.2325 - accuracy: 0.9016 - val_loss: 0.2679 - val_accuracy: 0.8925 - 14s/epoch - 33ms/step\n",
      "Epoch 37/125\n",
      "415/415 - 12s - loss: 0.2185 - accuracy: 0.9101 - val_loss: 0.2783 - val_accuracy: 0.8867 - 12s/epoch - 30ms/step\n",
      "Epoch 38/125\n",
      "415/415 - 15s - loss: 0.2161 - accuracy: 0.9100 - val_loss: 0.2436 - val_accuracy: 0.9019 - 15s/epoch - 36ms/step\n",
      "Epoch 39/125\n",
      "415/415 - 13s - loss: 0.2180 - accuracy: 0.9102 - val_loss: 0.2598 - val_accuracy: 0.8937 - 13s/epoch - 31ms/step\n",
      "Epoch 40/125\n",
      "415/415 - 13s - loss: 0.2136 - accuracy: 0.9099 - val_loss: 0.2536 - val_accuracy: 0.8985 - 13s/epoch - 31ms/step\n",
      "Epoch 41/125\n",
      "415/415 - 14s - loss: 0.2100 - accuracy: 0.9142 - val_loss: 0.2562 - val_accuracy: 0.8940 - 14s/epoch - 34ms/step\n",
      "Epoch 42/125\n",
      "415/415 - 13s - loss: 0.1964 - accuracy: 0.9199 - val_loss: 0.2234 - val_accuracy: 0.9090 - 13s/epoch - 31ms/step\n",
      "Epoch 43/125\n",
      "415/415 - 12s - loss: 0.1906 - accuracy: 0.9221 - val_loss: 0.2671 - val_accuracy: 0.8887 - 12s/epoch - 29ms/step\n",
      "Epoch 44/125\n",
      "415/415 - 11s - loss: 0.1991 - accuracy: 0.9176 - val_loss: 0.2515 - val_accuracy: 0.8962 - 11s/epoch - 27ms/step\n",
      "Epoch 45/125\n",
      "415/415 - 11s - loss: 0.1887 - accuracy: 0.9227 - val_loss: 0.2269 - val_accuracy: 0.9121 - 11s/epoch - 28ms/step\n",
      "Epoch 46/125\n",
      "415/415 - 11s - loss: 0.1839 - accuracy: 0.9251 - val_loss: 0.2292 - val_accuracy: 0.9080 - 11s/epoch - 28ms/step\n",
      "Epoch 47/125\n",
      "415/415 - 12s - loss: 0.1844 - accuracy: 0.9259 - val_loss: 0.2341 - val_accuracy: 0.9068 - 12s/epoch - 28ms/step\n",
      "Epoch 48/125\n",
      "415/415 - 13s - loss: 0.1818 - accuracy: 0.9261 - val_loss: 0.2379 - val_accuracy: 0.9098 - 13s/epoch - 30ms/step\n",
      "Epoch 49/125\n",
      "415/415 - 13s - loss: 0.1822 - accuracy: 0.9272 - val_loss: 0.2262 - val_accuracy: 0.9124 - 13s/epoch - 31ms/step\n",
      "Epoch 50/125\n",
      "415/415 - 12s - loss: 0.1800 - accuracy: 0.9267 - val_loss: 0.2244 - val_accuracy: 0.9113 - 12s/epoch - 28ms/step\n",
      "Epoch 51/125\n",
      "415/415 - 11s - loss: 0.1644 - accuracy: 0.9342 - val_loss: 0.2422 - val_accuracy: 0.9062 - 11s/epoch - 27ms/step\n",
      "Epoch 52/125\n",
      "415/415 - 11s - loss: 0.1710 - accuracy: 0.9315 - val_loss: 0.1970 - val_accuracy: 0.9223 - 11s/epoch - 26ms/step\n",
      "Epoch 53/125\n",
      "415/415 - 12s - loss: 0.1661 - accuracy: 0.9334 - val_loss: 0.2277 - val_accuracy: 0.9083 - 12s/epoch - 29ms/step\n",
      "Epoch 54/125\n",
      "415/415 - 16s - loss: 0.1774 - accuracy: 0.9280 - val_loss: 0.2128 - val_accuracy: 0.9171 - 16s/epoch - 38ms/step\n",
      "Epoch 55/125\n",
      "415/415 - 13s - loss: 0.1615 - accuracy: 0.9350 - val_loss: 0.2036 - val_accuracy: 0.9249 - 13s/epoch - 32ms/step\n",
      "Epoch 56/125\n",
      "415/415 - 13s - loss: 0.1631 - accuracy: 0.9351 - val_loss: 0.2436 - val_accuracy: 0.9050 - 13s/epoch - 31ms/step\n",
      "Epoch 57/125\n",
      "415/415 - 12s - loss: 0.1634 - accuracy: 0.9343 - val_loss: 0.2113 - val_accuracy: 0.9176 - 12s/epoch - 28ms/step\n",
      "Epoch 58/125\n",
      "415/415 - 11s - loss: 0.1612 - accuracy: 0.9356 - val_loss: 0.1907 - val_accuracy: 0.9281 - 11s/epoch - 28ms/step\n",
      "Epoch 59/125\n",
      "415/415 - 12s - loss: 0.1551 - accuracy: 0.9387 - val_loss: 0.1911 - val_accuracy: 0.9231 - 12s/epoch - 28ms/step\n",
      "Epoch 60/125\n",
      "415/415 - 11s - loss: 0.1559 - accuracy: 0.9369 - val_loss: 0.1876 - val_accuracy: 0.9271 - 11s/epoch - 27ms/step\n",
      "Epoch 61/125\n",
      "415/415 - 13s - loss: 0.1489 - accuracy: 0.9400 - val_loss: 0.2080 - val_accuracy: 0.9207 - 13s/epoch - 32ms/step\n",
      "Epoch 62/125\n",
      "415/415 - 13s - loss: 0.1510 - accuracy: 0.9399 - val_loss: 0.2276 - val_accuracy: 0.9137 - 13s/epoch - 32ms/step\n",
      "Epoch 63/125\n",
      "415/415 - 12s - loss: 0.1514 - accuracy: 0.9387 - val_loss: 0.1862 - val_accuracy: 0.9283 - 12s/epoch - 28ms/step\n",
      "Epoch 64/125\n",
      "415/415 - 12s - loss: 0.1536 - accuracy: 0.9404 - val_loss: 0.2267 - val_accuracy: 0.9145 - 12s/epoch - 28ms/step\n",
      "Epoch 65/125\n",
      "415/415 - 12s - loss: 0.1506 - accuracy: 0.9405 - val_loss: 0.1637 - val_accuracy: 0.9356 - 12s/epoch - 28ms/step\n",
      "Epoch 66/125\n",
      "415/415 - 13s - loss: 0.1367 - accuracy: 0.9469 - val_loss: 0.1838 - val_accuracy: 0.9321 - 13s/epoch - 31ms/step\n",
      "Epoch 67/125\n",
      "415/415 - 13s - loss: 0.1421 - accuracy: 0.9436 - val_loss: 0.1760 - val_accuracy: 0.9328 - 13s/epoch - 32ms/step\n",
      "Epoch 68/125\n",
      "415/415 - 13s - loss: 0.1372 - accuracy: 0.9461 - val_loss: 0.1952 - val_accuracy: 0.9288 - 13s/epoch - 32ms/step\n",
      "Epoch 69/125\n",
      "415/415 - 12s - loss: 0.1423 - accuracy: 0.9427 - val_loss: 0.1713 - val_accuracy: 0.9374 - 12s/epoch - 29ms/step\n",
      "Epoch 70/125\n",
      "415/415 - 12s - loss: 0.1504 - accuracy: 0.9413 - val_loss: 0.1762 - val_accuracy: 0.9330 - 12s/epoch - 29ms/step\n",
      "Epoch 71/125\n",
      "415/415 - 12s - loss: 0.1432 - accuracy: 0.9435 - val_loss: 0.1639 - val_accuracy: 0.9397 - 12s/epoch - 30ms/step\n",
      "Epoch 72/125\n",
      "415/415 - 12s - loss: 0.1341 - accuracy: 0.9474 - val_loss: 0.1826 - val_accuracy: 0.9319 - 12s/epoch - 30ms/step\n",
      "Epoch 73/125\n",
      "415/415 - 12s - loss: 0.1347 - accuracy: 0.9470 - val_loss: 0.2037 - val_accuracy: 0.9244 - 12s/epoch - 30ms/step\n",
      "Epoch 74/125\n",
      "415/415 - 13s - loss: 0.1345 - accuracy: 0.9476 - val_loss: 0.1602 - val_accuracy: 0.9403 - 13s/epoch - 30ms/step\n",
      "Epoch 75/125\n",
      "415/415 - 12s - loss: 0.1413 - accuracy: 0.9439 - val_loss: 0.2012 - val_accuracy: 0.9255 - 12s/epoch - 30ms/step\n",
      "Epoch 76/125\n",
      "415/415 - 12s - loss: 0.1273 - accuracy: 0.9501 - val_loss: 0.1677 - val_accuracy: 0.9379 - 12s/epoch - 28ms/step\n",
      "Epoch 77/125\n",
      "415/415 - 12s - loss: 0.1328 - accuracy: 0.9470 - val_loss: 0.1612 - val_accuracy: 0.9409 - 12s/epoch - 30ms/step\n",
      "Epoch 78/125\n",
      "415/415 - 13s - loss: 0.1269 - accuracy: 0.9505 - val_loss: 0.1855 - val_accuracy: 0.9299 - 13s/epoch - 30ms/step\n",
      "Epoch 79/125\n",
      "415/415 - 12s - loss: 0.1398 - accuracy: 0.9444 - val_loss: 0.1874 - val_accuracy: 0.9260 - 12s/epoch - 30ms/step\n",
      "Epoch 80/125\n",
      "415/415 - 12s - loss: 0.1295 - accuracy: 0.9487 - val_loss: 0.1697 - val_accuracy: 0.9379 - 12s/epoch - 30ms/step\n",
      "Epoch 81/125\n",
      "415/415 - 13s - loss: 0.1262 - accuracy: 0.9499 - val_loss: 0.1576 - val_accuracy: 0.9417 - 13s/epoch - 30ms/step\n",
      "Epoch 82/125\n",
      "415/415 - 12s - loss: 0.1281 - accuracy: 0.9500 - val_loss: 0.1680 - val_accuracy: 0.9394 - 12s/epoch - 29ms/step\n",
      "Epoch 83/125\n",
      "415/415 - 12s - loss: 0.1351 - accuracy: 0.9467 - val_loss: 0.1755 - val_accuracy: 0.9353 - 12s/epoch - 29ms/step\n",
      "Epoch 84/125\n",
      "415/415 - 12s - loss: 0.1312 - accuracy: 0.9475 - val_loss: 0.1546 - val_accuracy: 0.9432 - 12s/epoch - 29ms/step\n",
      "Epoch 85/125\n",
      "415/415 - 13s - loss: 0.1232 - accuracy: 0.9517 - val_loss: 0.1648 - val_accuracy: 0.9406 - 13s/epoch - 31ms/step\n",
      "Epoch 86/125\n",
      "415/415 - 14s - loss: 0.1285 - accuracy: 0.9493 - val_loss: 0.1582 - val_accuracy: 0.9435 - 14s/epoch - 33ms/step\n",
      "Epoch 87/125\n",
      "415/415 - 12s - loss: 0.1243 - accuracy: 0.9514 - val_loss: 0.1570 - val_accuracy: 0.9422 - 12s/epoch - 29ms/step\n",
      "Epoch 88/125\n",
      "415/415 - 12s - loss: 0.1297 - accuracy: 0.9488 - val_loss: 0.1666 - val_accuracy: 0.9415 - 12s/epoch - 29ms/step\n",
      "Epoch 89/125\n",
      "415/415 - 12s - loss: 0.1217 - accuracy: 0.9522 - val_loss: 0.1617 - val_accuracy: 0.9411 - 12s/epoch - 29ms/step\n",
      "Epoch 90/125\n",
      "415/415 - 12s - loss: 0.1288 - accuracy: 0.9492 - val_loss: 0.1529 - val_accuracy: 0.9438 - 12s/epoch - 28ms/step\n",
      "Epoch 91/125\n",
      "415/415 - 12s - loss: 0.1156 - accuracy: 0.9544 - val_loss: 0.1416 - val_accuracy: 0.9494 - 12s/epoch - 28ms/step\n",
      "Epoch 92/125\n",
      "415/415 - 12s - loss: 0.1139 - accuracy: 0.9554 - val_loss: 0.1598 - val_accuracy: 0.9392 - 12s/epoch - 29ms/step\n",
      "Epoch 93/125\n",
      "415/415 - 14s - loss: 0.1418 - accuracy: 0.9445 - val_loss: 0.1584 - val_accuracy: 0.9409 - 14s/epoch - 34ms/step\n",
      "Epoch 94/125\n",
      "415/415 - 12s - loss: 0.1179 - accuracy: 0.9536 - val_loss: 0.1608 - val_accuracy: 0.9413 - 12s/epoch - 30ms/step\n",
      "Epoch 95/125\n",
      "415/415 - 11s - loss: 0.1104 - accuracy: 0.9559 - val_loss: 0.1935 - val_accuracy: 0.9260 - 11s/epoch - 27ms/step\n",
      "Epoch 96/125\n",
      "415/415 - 11s - loss: 0.1187 - accuracy: 0.9539 - val_loss: 0.1614 - val_accuracy: 0.9448 - 11s/epoch - 27ms/step\n",
      "Epoch 97/125\n",
      "415/415 - 12s - loss: 0.1300 - accuracy: 0.9492 - val_loss: 0.1768 - val_accuracy: 0.9322 - 12s/epoch - 28ms/step\n",
      "Epoch 98/125\n",
      "415/415 - 12s - loss: 0.1163 - accuracy: 0.9542 - val_loss: 0.1512 - val_accuracy: 0.9446 - 12s/epoch - 28ms/step\n",
      "Epoch 99/125\n",
      "415/415 - 13s - loss: 0.1179 - accuracy: 0.9536 - val_loss: 0.1734 - val_accuracy: 0.9343 - 13s/epoch - 31ms/step\n",
      "Epoch 100/125\n",
      "415/415 - 13s - loss: 0.1119 - accuracy: 0.9564 - val_loss: 0.1393 - val_accuracy: 0.9506 - 13s/epoch - 31ms/step\n",
      "Epoch 101/125\n",
      "415/415 - 12s - loss: 0.1111 - accuracy: 0.9563 - val_loss: 0.1535 - val_accuracy: 0.9473 - 12s/epoch - 29ms/step\n",
      "Epoch 102/125\n",
      "415/415 - 12s - loss: 0.1209 - accuracy: 0.9520 - val_loss: 0.1588 - val_accuracy: 0.9448 - 12s/epoch - 28ms/step\n",
      "Epoch 103/125\n",
      "415/415 - 11s - loss: 0.1142 - accuracy: 0.9547 - val_loss: 0.1715 - val_accuracy: 0.9399 - 11s/epoch - 28ms/step\n",
      "Epoch 104/125\n",
      "415/415 - 12s - loss: 0.1078 - accuracy: 0.9579 - val_loss: 0.1470 - val_accuracy: 0.9467 - 12s/epoch - 29ms/step\n",
      "Epoch 105/125\n",
      "415/415 - 13s - loss: 0.1218 - accuracy: 0.9521 - val_loss: 0.1421 - val_accuracy: 0.9506 - 13s/epoch - 32ms/step\n",
      "Epoch 106/125\n",
      "415/415 - 13s - loss: 0.1137 - accuracy: 0.9563 - val_loss: 0.1492 - val_accuracy: 0.9441 - 13s/epoch - 32ms/step\n",
      "Epoch 107/125\n",
      "415/415 - 13s - loss: 0.1100 - accuracy: 0.9567 - val_loss: 0.1300 - val_accuracy: 0.9526 - 13s/epoch - 32ms/step\n",
      "Epoch 108/125\n",
      "415/415 - 12s - loss: 0.1123 - accuracy: 0.9555 - val_loss: 0.1518 - val_accuracy: 0.9468 - 12s/epoch - 29ms/step\n",
      "Epoch 109/125\n",
      "415/415 - 12s - loss: 0.1102 - accuracy: 0.9568 - val_loss: 0.1341 - val_accuracy: 0.9500 - 12s/epoch - 28ms/step\n",
      "Epoch 110/125\n",
      "415/415 - 12s - loss: 0.1156 - accuracy: 0.9554 - val_loss: 0.1911 - val_accuracy: 0.9293 - 12s/epoch - 30ms/step\n",
      "Epoch 111/125\n",
      "415/415 - 14s - loss: 0.1156 - accuracy: 0.9549 - val_loss: 0.1688 - val_accuracy: 0.9358 - 14s/epoch - 34ms/step\n",
      "Epoch 112/125\n",
      "415/415 - 14s - loss: 0.1023 - accuracy: 0.9599 - val_loss: 0.1582 - val_accuracy: 0.9452 - 14s/epoch - 33ms/step\n",
      "Epoch 113/125\n",
      "415/415 - 14s - loss: 0.1112 - accuracy: 0.9565 - val_loss: 0.1423 - val_accuracy: 0.9492 - 14s/epoch - 33ms/step\n",
      "Epoch 114/125\n",
      "415/415 - 12s - loss: 0.1173 - accuracy: 0.9543 - val_loss: 0.1268 - val_accuracy: 0.9545 - 12s/epoch - 29ms/step\n",
      "Epoch 115/125\n",
      "415/415 - 12s - loss: 0.1018 - accuracy: 0.9603 - val_loss: 0.1451 - val_accuracy: 0.9503 - 12s/epoch - 29ms/step\n",
      "Epoch 116/125\n",
      "415/415 - 12s - loss: 0.1078 - accuracy: 0.9587 - val_loss: 0.1576 - val_accuracy: 0.9412 - 12s/epoch - 30ms/step\n",
      "Epoch 117/125\n",
      "415/415 - 12s - loss: 0.1030 - accuracy: 0.9594 - val_loss: 0.1407 - val_accuracy: 0.9508 - 12s/epoch - 29ms/step\n",
      "Epoch 118/125\n",
      "415/415 - 12s - loss: 0.1101 - accuracy: 0.9575 - val_loss: 0.1584 - val_accuracy: 0.9425 - 12s/epoch - 28ms/step\n",
      "Epoch 119/125\n",
      "415/415 - 12s - loss: 0.1113 - accuracy: 0.9571 - val_loss: 0.1247 - val_accuracy: 0.9541 - 12s/epoch - 29ms/step\n",
      "Epoch 120/125\n",
      "415/415 - 12s - loss: 0.0993 - accuracy: 0.9610 - val_loss: 0.1292 - val_accuracy: 0.9524 - 12s/epoch - 28ms/step\n",
      "Epoch 121/125\n",
      "415/415 - 12s - loss: 0.1033 - accuracy: 0.9593 - val_loss: 0.1467 - val_accuracy: 0.9484 - 12s/epoch - 29ms/step\n",
      "Epoch 122/125\n",
      "415/415 - 12s - loss: 0.1061 - accuracy: 0.9577 - val_loss: 0.1575 - val_accuracy: 0.9442 - 12s/epoch - 29ms/step\n",
      "Epoch 123/125\n",
      "415/415 - 12s - loss: 0.1075 - accuracy: 0.9586 - val_loss: 0.1241 - val_accuracy: 0.9569 - 12s/epoch - 30ms/step\n",
      "Epoch 124/125\n",
      "415/415 - 13s - loss: 0.0980 - accuracy: 0.9617 - val_loss: 0.1341 - val_accuracy: 0.9511 - 13s/epoch - 30ms/step\n",
      "Epoch 125/125\n",
      "415/415 - 14s - loss: 0.1056 - accuracy: 0.9583 - val_loss: 0.1779 - val_accuracy: 0.9357 - 14s/epoch - 33ms/step\n"
     ]
    },
    {
     "data": {
      "text/plain": [
       "<keras.callbacks.History at 0x1b976da09d0>"
      ]
     },
     "execution_count": 18,
     "metadata": {},
     "output_type": "execute_result"
    }
   ],
   "source": [
    "model.summary(line_length=88)\n",
    "\n",
    "#—Compilation Function\n",
    "model.compile(loss='categorical_crossentropy', optimizer='Adam', metrics=['accuracy'])\n",
    "\n",
    "#—Fit model\n",
    "model.fit(X_train, y_train, batch_size=128, epochs=125, validation_split=0.33, verbose=2)"
   ]
  },
  {
   "cell_type": "code",
   "execution_count": 21,
   "metadata": {},
   "outputs": [
    {
     "name": "stdout",
     "output_type": "stream",
     "text": [
      "196/196 [==============================] - 1s 7ms/step - loss: 0.1718 - accuracy: 0.9390\n"
     ]
    },
    {
     "data": {
      "text/plain": [
       "[0.1717691570520401, 0.9390187859535217]"
      ]
     },
     "execution_count": 21,
     "metadata": {},
     "output_type": "execute_result"
    }
   ],
   "source": [
    "model.evaluate(X_test, y_test, batch_size=200)"
   ]
  },
  {
   "cell_type": "code",
   "execution_count": 30,
   "metadata": {},
   "outputs": [
    {
     "name": "stdout",
     "output_type": "stream",
     "text": [
      "[[[0.17705439]\n",
      "  [0.05405405]\n",
      "  [0.6360601 ]\n",
      "  [0.08305648]\n",
      "  [0.46240197]]\n",
      "\n",
      " [[0.28265185]\n",
      "  [0.14864865]\n",
      "  [0.26210351]\n",
      "  [0.21594684]\n",
      "  [0.53821313]]\n",
      "\n",
      " [[0.53354506]\n",
      "  [0.82432432]\n",
      "  [0.40734558]\n",
      "  [0.29900332]\n",
      "  [0.69214209]]\n",
      "\n",
      " ...\n",
      "\n",
      " [[0.11750695]\n",
      "  [0.01351351]\n",
      "  [0.2754591 ]\n",
      "  [0.34551495]\n",
      "  [0.07796402]]\n",
      "\n",
      " [[0.66375546]\n",
      "  [0.25675676]\n",
      "  [0.16527546]\n",
      "  [0.27906977]\n",
      "  [0.07988621]]\n",
      "\n",
      " [[0.08495435]\n",
      "  [0.63513514]\n",
      "  [0.04340568]\n",
      "  [0.19269103]\n",
      "  [0.23097032]]]\n"
     ]
    }
   ],
   "source": [
    "print(X_test)"
   ]
  },
  {
   "cell_type": "code",
   "execution_count": 44,
   "metadata": {},
   "outputs": [
    {
     "name": "stdout",
     "output_type": "stream",
     "text": [
      "1/1 [==============================] - 0s 19ms/step\n",
      "Formatted Number with percentage for class 0: 100.00%\n",
      "Formatted Number with percentage for class 1: 0.00%\n",
      "Formatted Number with percentage for class 2: 0.00%\n",
      " \n",
      "Formatted Number with percentage for class 0: 98.70%\n",
      "Formatted Number with percentage for class 1: 1.30%\n",
      "Formatted Number with percentage for class 2: 0.00%\n",
      " \n",
      "Formatted Number with percentage for class 0: 85.76%\n",
      "Formatted Number with percentage for class 1: 14.24%\n",
      "Formatted Number with percentage for class 2: 0.00%\n",
      " \n",
      "Formatted Number with percentage for class 0: 37.43%\n",
      "Formatted Number with percentage for class 1: 62.57%\n",
      "Formatted Number with percentage for class 2: 0.00%\n",
      " \n",
      "Formatted Number with percentage for class 0: 44.01%\n",
      "Formatted Number with percentage for class 1: 55.99%\n",
      "Formatted Number with percentage for class 2: 0.00%\n",
      " \n",
      "Formatted Number with percentage for class 0: 100.00%\n",
      "Formatted Number with percentage for class 1: 0.00%\n",
      "Formatted Number with percentage for class 2: 0.00%\n",
      " \n",
      "Formatted Number with percentage for class 0: 0.00%\n",
      "Formatted Number with percentage for class 1: 100.00%\n",
      "Formatted Number with percentage for class 2: 0.00%\n",
      " \n",
      "Formatted Number with percentage for class 0: 0.00%\n",
      "Formatted Number with percentage for class 1: 100.00%\n",
      "Formatted Number with percentage for class 2: 0.00%\n",
      " \n",
      "Formatted Number with percentage for class 0: 97.87%\n",
      "Formatted Number with percentage for class 1: 2.13%\n",
      "Formatted Number with percentage for class 2: 0.00%\n",
      " \n"
     ]
    }
   ],
   "source": [
    "y_pred = model.predict(X_test[0:9])\n",
    "\n",
    "for row in y_pred:\n",
    "    count = 0\n",
    "    for num in row:\n",
    "        print(\"Formatted Number with percentage for class \" + str(count) +\": \" + \"{:.2%}\".format(num))\n",
    "        count += 1\n",
    "    print(\" \")"
   ]
  },
  {
   "cell_type": "code",
   "execution_count": 51,
   "metadata": {},
   "outputs": [
    {
     "data": {
      "text/plain": [
       "array([0, 0, 0, ..., 0, 1, 0], dtype=int64)"
      ]
     },
     "execution_count": 51,
     "metadata": {},
     "output_type": "execute_result"
    }
   ],
   "source": [
    "rounded_labels=numpy.argmax(y_test, axis=1)\n",
    "rounded_labels"
   ]
  },
  {
   "cell_type": "code",
   "execution_count": 59,
   "metadata": {},
   "outputs": [
    {
     "name": "stdout",
     "output_type": "stream",
     "text": [
      "1220/1220 [==============================] - 3s 2ms/step\n",
      "              precision    recall  f1-score   support\n",
      "\n",
      "           0       0.92      0.92      0.92     14468\n",
      "           1       0.95      0.95      0.95     24520\n",
      "           2       1.00      1.00      1.00        24\n",
      "\n",
      "    accuracy                           0.94     39012\n",
      "   macro avg       0.96      0.96      0.96     39012\n",
      "weighted avg       0.94      0.94      0.94     39012\n",
      "\n"
     ]
    }
   ],
   "source": [
    "import seaborn as sns\n",
    "from sklearn.metrics import confusion_matrix\n",
    "from sklearn.metrics import multilabel_confusion_matrix\n",
    "from sklearn.metrics import classification_report\n",
    "\n",
    "predictions = model.predict(X_test)\n",
    "classes = numpy.argmax(predictions, axis = 1)\n",
    "\n",
    "print(classification_report(rounded_labels, classes))"
   ]
  },
  {
   "cell_type": "code",
   "execution_count": 69,
   "metadata": {},
   "outputs": [
    {
     "data": {
      "image/png": "[encoded data removed]",
      "text/plain": [
       "<Figure size 576x504 with 2 Axes>"
      ]
     },
     "metadata": {
      "needs_background": "light"
     },
     "output_type": "display_data"
    }
   ],
   "source": [
    "cm = confusion_matrix(rounded_labels, classes)\n",
    "\n",
    "cm_df = pd.DataFrame(cm, \n",
    "    index = ['Unfavourable', 'Favourable', 'Unclear'],\n",
    "    columns = ['Unfavourable', 'Favourable', 'Unclear'])\n",
    "\n",
    "#Plotting the confusion matrix\n",
    "\n",
    "pyplot.figure(figsize=(8,7))\n",
    "sns.heatmap(cm_df, annot=True, fmt='g', cmap=\"YlGnBu\")\n",
    "pyplot.title('Confusion Matrix')\n",
    "pyplot.ylabel('Actal Values')\n",
    "pyplot.xlabel('Predicted Values')\n",
    "pyplot.show()"
   ]
  },
  {
   "cell_type": "code",
   "execution_count": 70,
   "metadata": {},
   "outputs": [
    {
     "name": "stdout",
     "output_type": "stream",
     "text": [
      "Saved model to disk\n"
     ]
    }
   ],
   "source": [
    "# save model\n",
    "\n",
    "model.save('model_LSTM_CNN.h5')\n",
    "print('Saved model to disk')"
   ]
  },
  {
   "cell_type": "code",
   "execution_count": 71,
   "metadata": {},
   "outputs": [
    {
     "name": "stdout",
     "output_type": "stream",
     "text": [
      "1/1 [==============================] - 0s 16ms/step\n",
      "1/1 [==============================] - 0s 489ms/step\n"
     ]
    }
   ],
   "source": [
    "# load model\n",
    "from keras.models import load_model\n",
    "\n",
    "reconstructed_model = load_model('..\\model\\model_LSTM_CNN.h5')\n",
    "\n",
    "# Let's check:\n",
    "numpy.testing.assert_allclose(\n",
    "    model.predict(X_test[0:1]), reconstructed_model.predict(X_test[0:1])\n",
    ")"
   ]
  }
 ],
 "metadata": {
  "kernelspec": {
   "display_name": "Python 3.9.12",
   "language": "python",
   "name": "python3"
  },
  "language_info": {
   "codemirror_mode": {
    "name": "ipython",
    "version": 3
   },
   "file_extension": ".py",
   "mimetype": "text/x-python",
   "name": "python",
   "nbconvert_exporter": "python",
   "pygments_lexer": "ipython3",
   "version": "3.9.12"
  },
  "orig_nbformat": 4,
  "vscode": {
   "interpreter": {
    "hash": "add2cd0d7f1c4c4c5ac52eb15561761f78bd572bfefd4b73bb574b0affbd35fb"
   }
  }
 },
 "nbformat": 4,
 "nbformat_minor": 2
}
