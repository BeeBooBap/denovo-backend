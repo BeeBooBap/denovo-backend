{
 "cells": [
  {
   "cell_type": "code",
   "execution_count": 1,
   "metadata": {},
   "outputs": [],
   "source": [
    "# load model\n",
    "from keras.models import load_model\n",
    "\n",
    "reconstructed_model = load_model('..\\model\\model_LSTM_CNN.h5')"
   ]
  },
  {
   "cell_type": "code",
   "execution_count": 2,
   "metadata": {},
   "outputs": [],
   "source": [
    "# export model to TFJS\n",
    "import tensorflowjs as tfjs\n",
    "tfjs.converters.save_keras_model(reconstructed_model, '../../Layers/LSTMCNN')"
   ]
  }
 ],
 "metadata": {
  "kernelspec": {
   "display_name": "Python 3.10.2 64-bit",
   "language": "python",
   "name": "python3"
  },
  "language_info": {
   "codemirror_mode": {
    "name": "ipython",
    "version": 3
   },
   "file_extension": ".py",
   "mimetype": "text/x-python",
   "name": "python",
   "nbconvert_exporter": "python",
   "pygments_lexer": "ipython3",
   "version": "3.10.2"
  },
  "orig_nbformat": 4,
  "vscode": {
   "interpreter": {
    "hash": "16b7e214aa145f7720106a2cafcdd43ba3ba05cc8ef90356c3af2da1d208ebb5"
   }
  }
 },
 "nbformat": 4,
 "nbformat_minor": 2
}
