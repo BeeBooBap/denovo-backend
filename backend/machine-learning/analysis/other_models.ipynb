{
 "cells": [
  {
   "cell_type": "code",
   "execution_count": 1,
   "metadata": {},
   "outputs": [
    {
     "name": "stderr",
     "output_type": "stream",
     "text": [
      "C:\\Users\\Ayesha\\AppData\\Local\\Temp\\ipykernel_7508\\3184931962.py:10: SettingWithCopyWarning: \n",
      "A value is trying to be set on a copy of a slice from a DataFrame\n",
      "\n",
      "See the caveats in the documentation: https://pandas.pydata.org/pandas-docs/stable/user_guide/indexing.html#returning-a-view-versus-a-copy\n",
      "  df.dropna(subset=['respondent'], inplace=True)\n",
      "C:\\Users\\Ayesha\\AppData\\Local\\Temp\\ipykernel_7508\\3184931962.py:11: SettingWithCopyWarning: \n",
      "A value is trying to be set on a copy of a slice from a DataFrame\n",
      "\n",
      "See the caveats in the documentation: https://pandas.pydata.org/pandas-docs/stable/user_guide/indexing.html#returning-a-view-versus-a-copy\n",
      "  df.dropna(subset=['caseOrigin'], inplace=True)\n",
      "C:\\Users\\Ayesha\\AppData\\Local\\Temp\\ipykernel_7508\\3184931962.py:12: SettingWithCopyWarning: \n",
      "A value is trying to be set on a copy of a slice from a DataFrame\n",
      "\n",
      "See the caveats in the documentation: https://pandas.pydata.org/pandas-docs/stable/user_guide/indexing.html#returning-a-view-versus-a-copy\n",
      "  df.dropna(subset=['issue'], inplace=True)\n",
      "C:\\Users\\Ayesha\\AppData\\Local\\Temp\\ipykernel_7508\\3184931962.py:13: SettingWithCopyWarning: \n",
      "A value is trying to be set on a copy of a slice from a DataFrame\n",
      "\n",
      "See the caveats in the documentation: https://pandas.pydata.org/pandas-docs/stable/user_guide/indexing.html#returning-a-view-versus-a-copy\n",
      "  df.dropna(subset=['partyWinning'], inplace=True)\n",
      "C:\\Users\\Ayesha\\AppData\\Local\\Temp\\ipykernel_7508\\3184931962.py:19: SettingWithCopyWarning: \n",
      "A value is trying to be set on a copy of a slice from a DataFrame.\n",
      "Try using .loc[row_indexer,col_indexer] = value instead\n",
      "\n",
      "See the caveats in the documentation: https://pandas.pydata.org/pandas-docs/stable/user_guide/indexing.html#returning-a-view-versus-a-copy\n",
      "  df['dateDecision'] = LabelEncoder().fit_transform(df['dateDecision'])\n",
      "C:\\Users\\Ayesha\\AppData\\Local\\Temp\\ipykernel_7508\\3184931962.py:21: SettingWithCopyWarning: \n",
      "A value is trying to be set on a copy of a slice from a DataFrame.\n",
      "Try using .loc[row_indexer,col_indexer] = value instead\n",
      "\n",
      "See the caveats in the documentation: https://pandas.pydata.org/pandas-docs/stable/user_guide/indexing.html#returning-a-view-versus-a-copy\n",
      "  df['respondent'] = df['respondent'].apply(int)\n",
      "C:\\Users\\Ayesha\\AppData\\Local\\Temp\\ipykernel_7508\\3184931962.py:22: SettingWithCopyWarning: \n",
      "A value is trying to be set on a copy of a slice from a DataFrame.\n",
      "Try using .loc[row_indexer,col_indexer] = value instead\n",
      "\n",
      "See the caveats in the documentation: https://pandas.pydata.org/pandas-docs/stable/user_guide/indexing.html#returning-a-view-versus-a-copy\n",
      "  df['caseOrigin'] = df['caseOrigin'].apply(int)\n",
      "C:\\Users\\Ayesha\\AppData\\Local\\Temp\\ipykernel_7508\\3184931962.py:23: SettingWithCopyWarning: \n",
      "A value is trying to be set on a copy of a slice from a DataFrame.\n",
      "Try using .loc[row_indexer,col_indexer] = value instead\n",
      "\n",
      "See the caveats in the documentation: https://pandas.pydata.org/pandas-docs/stable/user_guide/indexing.html#returning-a-view-versus-a-copy\n",
      "  df['issue'] = df['issue'].apply(int)\n",
      "C:\\Users\\Ayesha\\AppData\\Local\\Temp\\ipykernel_7508\\3184931962.py:24: SettingWithCopyWarning: \n",
      "A value is trying to be set on a copy of a slice from a DataFrame.\n",
      "Try using .loc[row_indexer,col_indexer] = value instead\n",
      "\n",
      "See the caveats in the documentation: https://pandas.pydata.org/pandas-docs/stable/user_guide/indexing.html#returning-a-view-versus-a-copy\n",
      "  df['dateDecision'] = df['dateDecision'].apply(int)\n",
      "C:\\Users\\Ayesha\\AppData\\Local\\Temp\\ipykernel_7508\\3184931962.py:25: SettingWithCopyWarning: \n",
      "A value is trying to be set on a copy of a slice from a DataFrame.\n",
      "Try using .loc[row_indexer,col_indexer] = value instead\n",
      "\n",
      "See the caveats in the documentation: https://pandas.pydata.org/pandas-docs/stable/user_guide/indexing.html#returning-a-view-versus-a-copy\n",
      "  df['partyWinning'] = df['partyWinning'].apply(int)\n"
     ]
    }
   ],
   "source": [
    "# Importing csv file\n",
    "import pandas as pd\n",
    "\n",
    "path = \"..\\dataset\\SCDB_2021.csv\"\n",
    "\n",
    "raw_df = pd.read_csv(path, encoding = 'cp1252')\n",
    "\n",
    "df = raw_df[['dateDecision', 'term', 'respondent', 'caseOrigin', 'issue', 'partyWinning']]\n",
    "\n",
    "df.dropna(subset=['respondent'], inplace=True)\n",
    "df.dropna(subset=['caseOrigin'], inplace=True)\n",
    "df.dropna(subset=['issue'], inplace=True)\n",
    "df.dropna(subset=['partyWinning'], inplace=True)\n",
    "\n",
    "df[df.columns[df.isnull().any()]].isnull().sum()\n",
    "\n",
    "from sklearn.preprocessing import LabelEncoder\n",
    "\n",
    "df['dateDecision'] = LabelEncoder().fit_transform(df['dateDecision'])\n",
    "\n",
    "df['respondent'] = df['respondent'].apply(int)\n",
    "df['caseOrigin'] = df['caseOrigin'].apply(int)\n",
    "df['issue'] = df['issue'].apply(int)\n",
    "df['dateDecision'] = df['dateDecision'].apply(int)\n",
    "df['partyWinning'] = df['partyWinning'].apply(int)\n",
    "\n",
    "from sklearn.model_selection import train_test_split\n",
    "import numpy\n",
    "\n",
    "array = df.values\n",
    "X = array[:,0:5]\n",
    "Y = array[:, 5]\n",
    "\n",
    "X_train, X_test, y_train, y_test = train_test_split(X, Y, test_size=0.33, random_state=7, stratify=Y)"
   ]
  },
  {
   "cell_type": "code",
   "execution_count": 2,
   "metadata": {},
   "outputs": [
    {
     "name": "stdout",
     "output_type": "stream",
     "text": [
      "Mean Accuracy: 0.629 (0.005)\n"
     ]
    }
   ],
   "source": [
    "# define and evaluate multinomial regression model\n",
    "\n",
    "from sklearn.linear_model import LogisticRegression\n",
    "from sklearn.model_selection import cross_val_score\n",
    "from sklearn.model_selection import KFold\n",
    "from numpy import mean\n",
    "from numpy import std\n",
    "\n",
    "model = LogisticRegression(multi_class='multinomial', solver='lbfgs', max_iter=1000)\n",
    "\n",
    "# evaluation procedure\n",
    "kfold = KFold(n_splits=10, random_state=7, shuffle=True)\n",
    "\n",
    "# apply model and collate scores\n",
    "scores = cross_val_score(model, X_train, y_train, scoring='accuracy', cv=kfold, n_jobs=-1)\n",
    "\n",
    "# print results\n",
    "print('Mean Accuracy: %.3f (%.3f)' % (mean(scores), std(scores)))"
   ]
  },
  {
   "cell_type": "code",
   "execution_count": 3,
   "metadata": {},
   "outputs": [
    {
     "name": "stdout",
     "output_type": "stream",
     "text": [
      "Accuracy: 0.629\n",
      "              precision    recall  f1-score   support\n",
      "\n",
      "           0       0.00      0.00      0.00     14468\n",
      "           1       0.63      1.00      0.77     24520\n",
      "           2       0.00      0.00      0.00        24\n",
      "\n",
      "    accuracy                           0.63     39012\n",
      "   macro avg       0.21      0.33      0.26     39012\n",
      "weighted avg       0.40      0.63      0.49     39012\n",
      "\n"
     ]
    },
    {
     "name": "stderr",
     "output_type": "stream",
     "text": [
      "c:\\Users\\Ayesha\\AppData\\Local\\Programs\\Python\\Python310\\lib\\site-packages\\sklearn\\metrics\\_classification.py:1327: UndefinedMetricWarning: Precision and F-score are ill-defined and being set to 0.0 in labels with no predicted samples. Use `zero_division` parameter to control this behavior.\n",
      "  _warn_prf(average, modifier, msg_start, len(result))\n",
      "c:\\Users\\Ayesha\\AppData\\Local\\Programs\\Python\\Python310\\lib\\site-packages\\sklearn\\metrics\\_classification.py:1327: UndefinedMetricWarning: Precision and F-score are ill-defined and being set to 0.0 in labels with no predicted samples. Use `zero_division` parameter to control this behavior.\n",
      "  _warn_prf(average, modifier, msg_start, len(result))\n",
      "c:\\Users\\Ayesha\\AppData\\Local\\Programs\\Python\\Python310\\lib\\site-packages\\sklearn\\metrics\\_classification.py:1327: UndefinedMetricWarning: Precision and F-score are ill-defined and being set to 0.0 in labels with no predicted samples. Use `zero_division` parameter to control this behavior.\n",
      "  _warn_prf(average, modifier, msg_start, len(result))\n"
     ]
    }
   ],
   "source": [
    "# LR\n",
    "from sklearn.metrics import accuracy_score\n",
    "from sklearn.metrics import classification_report\n",
    "\n",
    "# fit the model\n",
    "model.fit(X_train, y_train)\n",
    "\n",
    "# make predictions\n",
    "yhat = model.predict(X_test)\n",
    "\n",
    "# evaluate predictions\n",
    "acc = accuracy_score(y_test, yhat)\n",
    "print('Accuracy: %.3f' % acc)\n",
    "\n",
    "print(classification_report(y_test, yhat))"
   ]
  },
  {
   "cell_type": "code",
   "execution_count": 7,
   "metadata": {},
   "outputs": [
    {
     "name": "stdout",
     "output_type": "stream",
     "text": [
      "Mean Accuracy: 0.994 (0.001)\n"
     ]
    }
   ],
   "source": [
    "# Random Forest\n",
    "from sklearn.ensemble import RandomForestClassifier\n",
    "\n",
    "classifier = RandomForestClassifier(n_estimators = 10, criterion = 'gini', random_state = 42)\n",
    "\n",
    "# apply model and collate scores\n",
    "RF_scores = cross_val_score(classifier, X_train, y_train, scoring='accuracy', cv=kfold, n_jobs=-1)\n",
    "\n",
    "# print results\n",
    "print('Mean Accuracy: %.3f (%.3f)' % (mean(RF_scores), std(RF_scores)))"
   ]
  },
  {
   "cell_type": "code",
   "execution_count": 8,
   "metadata": {},
   "outputs": [
    {
     "name": "stdout",
     "output_type": "stream",
     "text": [
      "Accuracy: 0.995\n",
      "              precision    recall  f1-score   support\n",
      "\n",
      "           0       0.99      0.99      0.99     14468\n",
      "           1       1.00      1.00      1.00     24520\n",
      "           2       1.00      1.00      1.00        24\n",
      "\n",
      "    accuracy                           0.99     39012\n",
      "   macro avg       1.00      1.00      1.00     39012\n",
      "weighted avg       0.99      0.99      0.99     39012\n",
      "\n"
     ]
    }
   ],
   "source": [
    "# RF\n",
    "classifier.fit(X_train, y_train)\n",
    "\n",
    "RF_pred = classifier.predict(X_test)\n",
    "\n",
    "# evaluate predictions\n",
    "RF_acc = accuracy_score(y_test, RF_pred)\n",
    "print('Accuracy: %.3f' % RF_acc)\n",
    "\n",
    "print(classification_report(y_test, RF_pred))"
   ]
  },
  {
   "cell_type": "code",
   "execution_count": 9,
   "metadata": {},
   "outputs": [
    {
     "name": "stdout",
     "output_type": "stream",
     "text": [
      "Accuracy: 0.995\n",
      "              precision    recall  f1-score   support\n",
      "\n",
      "           0       0.99      0.99      0.99     14468\n",
      "           1       0.99      0.99      0.99     24520\n",
      "           2       1.00      1.00      1.00        24\n",
      "\n",
      "    accuracy                           0.99     39012\n",
      "   macro avg       0.99      0.99      0.99     39012\n",
      "weighted avg       0.99      0.99      0.99     39012\n",
      "\n"
     ]
    }
   ],
   "source": [
    "# K-Nearest Neighbours\n",
    "\n",
    "from sklearn.neighbors import KNeighborsClassifier\n",
    "\n",
    "knn_clf = KNeighborsClassifier()\n",
    "\n",
    "knn_clf.fit(X_train, y_train)\n",
    "\n",
    "knn_pred = knn_clf.predict(X_test)\n",
    "\n",
    "# evaluate predictions\n",
    "knn_acc = accuracy_score(y_test, knn_pred)\n",
    "print('Accuracy: %.3f' % RF_acc)\n",
    "\n",
    "print(classification_report(y_test, knn_pred))"
   ]
  }
 ],
 "metadata": {
  "kernelspec": {
   "display_name": "Python 3.10.2 64-bit",
   "language": "python",
   "name": "python3"
  },
  "language_info": {
   "codemirror_mode": {
    "name": "ipython",
    "version": 3
   },
   "file_extension": ".py",
   "mimetype": "text/x-python",
   "name": "python",
   "nbconvert_exporter": "python",
   "pygments_lexer": "ipython3",
   "version": "3.10.2"
  },
  "orig_nbformat": 4,
  "vscode": {
   "interpreter": {
    "hash": "16b7e214aa145f7720106a2cafcdd43ba3ba05cc8ef90356c3af2da1d208ebb5"
   }
  }
 },
 "nbformat": 4,
 "nbformat_minor": 2
}
