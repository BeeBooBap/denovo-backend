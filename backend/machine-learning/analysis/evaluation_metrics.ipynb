{
 "cells": [
  {
   "cell_type": "code",
   "execution_count": 4,
   "metadata": {},
   "outputs": [
    {
     "name": "stderr",
     "output_type": "stream",
     "text": [
      "C:\\Users\\Ayesha\\AppData\\Local\\Temp\\ipykernel_2448\\3620063694.py:10: SettingWithCopyWarning: \n",
      "A value is trying to be set on a copy of a slice from a DataFrame\n",
      "\n",
      "See the caveats in the documentation: https://pandas.pydata.org/pandas-docs/stable/user_guide/indexing.html#returning-a-view-versus-a-copy\n",
      "  df.dropna(subset=['respondent'], inplace=True)\n",
      "C:\\Users\\Ayesha\\AppData\\Local\\Temp\\ipykernel_2448\\3620063694.py:11: SettingWithCopyWarning: \n",
      "A value is trying to be set on a copy of a slice from a DataFrame\n",
      "\n",
      "See the caveats in the documentation: https://pandas.pydata.org/pandas-docs/stable/user_guide/indexing.html#returning-a-view-versus-a-copy\n",
      "  df.dropna(subset=['caseOrigin'], inplace=True)\n",
      "C:\\Users\\Ayesha\\AppData\\Local\\Temp\\ipykernel_2448\\3620063694.py:12: SettingWithCopyWarning: \n",
      "A value is trying to be set on a copy of a slice from a DataFrame\n",
      "\n",
      "See the caveats in the documentation: https://pandas.pydata.org/pandas-docs/stable/user_guide/indexing.html#returning-a-view-versus-a-copy\n",
      "  df.dropna(subset=['issue'], inplace=True)\n",
      "C:\\Users\\Ayesha\\AppData\\Local\\Temp\\ipykernel_2448\\3620063694.py:13: SettingWithCopyWarning: \n",
      "A value is trying to be set on a copy of a slice from a DataFrame\n",
      "\n",
      "See the caveats in the documentation: https://pandas.pydata.org/pandas-docs/stable/user_guide/indexing.html#returning-a-view-versus-a-copy\n",
      "  df.dropna(subset=['partyWinning'], inplace=True)\n",
      "C:\\Users\\Ayesha\\AppData\\Local\\Temp\\ipykernel_2448\\3620063694.py:19: SettingWithCopyWarning: \n",
      "A value is trying to be set on a copy of a slice from a DataFrame.\n",
      "Try using .loc[row_indexer,col_indexer] = value instead\n",
      "\n",
      "See the caveats in the documentation: https://pandas.pydata.org/pandas-docs/stable/user_guide/indexing.html#returning-a-view-versus-a-copy\n",
      "  df['dateDecision'] = LabelEncoder().fit_transform(df['dateDecision'])\n"
     ]
    },
    {
     "name": "stdout",
     "output_type": "stream",
     "text": [
      "2519 0\n",
      "2020 1946\n"
     ]
    },
    {
     "name": "stderr",
     "output_type": "stream",
     "text": [
      "C:\\Users\\Ayesha\\AppData\\Local\\Temp\\ipykernel_2448\\3620063694.py:24: SettingWithCopyWarning: \n",
      "A value is trying to be set on a copy of a slice from a DataFrame.\n",
      "Try using .loc[row_indexer,col_indexer] = value instead\n",
      "\n",
      "See the caveats in the documentation: https://pandas.pydata.org/pandas-docs/stable/user_guide/indexing.html#returning-a-view-versus-a-copy\n",
      "  df['respondent'] = df['respondent'].apply(int)\n",
      "C:\\Users\\Ayesha\\AppData\\Local\\Temp\\ipykernel_2448\\3620063694.py:25: SettingWithCopyWarning: \n",
      "A value is trying to be set on a copy of a slice from a DataFrame.\n",
      "Try using .loc[row_indexer,col_indexer] = value instead\n",
      "\n",
      "See the caveats in the documentation: https://pandas.pydata.org/pandas-docs/stable/user_guide/indexing.html#returning-a-view-versus-a-copy\n",
      "  df['caseOrigin'] = df['caseOrigin'].apply(int)\n",
      "C:\\Users\\Ayesha\\AppData\\Local\\Temp\\ipykernel_2448\\3620063694.py:26: SettingWithCopyWarning: \n",
      "A value is trying to be set on a copy of a slice from a DataFrame.\n",
      "Try using .loc[row_indexer,col_indexer] = value instead\n",
      "\n",
      "See the caveats in the documentation: https://pandas.pydata.org/pandas-docs/stable/user_guide/indexing.html#returning-a-view-versus-a-copy\n",
      "  df['issue'] = df['issue'].apply(int)\n",
      "C:\\Users\\Ayesha\\AppData\\Local\\Temp\\ipykernel_2448\\3620063694.py:27: SettingWithCopyWarning: \n",
      "A value is trying to be set on a copy of a slice from a DataFrame.\n",
      "Try using .loc[row_indexer,col_indexer] = value instead\n",
      "\n",
      "See the caveats in the documentation: https://pandas.pydata.org/pandas-docs/stable/user_guide/indexing.html#returning-a-view-versus-a-copy\n",
      "  df['dateDecision'] = df['dateDecision'].apply(int)\n",
      "C:\\Users\\Ayesha\\AppData\\Local\\Temp\\ipykernel_2448\\3620063694.py:28: SettingWithCopyWarning: \n",
      "A value is trying to be set on a copy of a slice from a DataFrame.\n",
      "Try using .loc[row_indexer,col_indexer] = value instead\n",
      "\n",
      "See the caveats in the documentation: https://pandas.pydata.org/pandas-docs/stable/user_guide/indexing.html#returning-a-view-versus-a-copy\n",
      "  df['partyWinning'] = df['partyWinning'].apply(int)\n"
     ]
    },
    {
     "name": "stdout",
     "output_type": "stream",
     "text": [
      "X_test set up\n"
     ]
    }
   ],
   "source": [
    "# Importing csv file\n",
    "import pandas as pd\n",
    "\n",
    "path = \"..\\dataset\\SCDB_2021.csv\"\n",
    "\n",
    "raw_df = pd.read_csv(path, encoding = 'cp1252')\n",
    "\n",
    "df = raw_df[['dateDecision', 'term', 'respondent', 'caseOrigin', 'issue', 'partyWinning']]\n",
    "\n",
    "df.dropna(subset=['respondent'], inplace=True)\n",
    "df.dropna(subset=['caseOrigin'], inplace=True)\n",
    "df.dropna(subset=['issue'], inplace=True)\n",
    "df.dropna(subset=['partyWinning'], inplace=True)\n",
    "\n",
    "df[df.columns[df.isnull().any()]].isnull().sum()\n",
    "\n",
    "from sklearn.preprocessing import LabelEncoder\n",
    "\n",
    "df['dateDecision'] = LabelEncoder().fit_transform(df['dateDecision'])\n",
    "\n",
    "print(df['dateDecision'].max(), df['dateDecision'].min())\n",
    "print(df['term'].max(), df['term'].min())\n",
    "\n",
    "df['respondent'] = df['respondent'].apply(int)\n",
    "df['caseOrigin'] = df['caseOrigin'].apply(int)\n",
    "df['issue'] = df['issue'].apply(int)\n",
    "df['dateDecision'] = df['dateDecision'].apply(int)\n",
    "df['partyWinning'] = df['partyWinning'].apply(int)\n",
    "\n",
    "from sklearn.model_selection import train_test_split\n",
    "import numpy\n",
    "\n",
    "array = df.values\n",
    "X = array[:,0:5]\n",
    "Y = array[:, 5]\n",
    "\n",
    "import keras.api._v2.keras as keras\n",
    "\n",
    "y_onehot = keras.utils.to_categorical(Y, num_classes=3)\n",
    "\n",
    "X_train, X_test, y_train, y_test = train_test_split(X, y_onehot, test_size=0.33, random_state=7, stratify=y_onehot)\n",
    "\n",
    "from sklearn.preprocessing import MinMaxScaler\n",
    "\n",
    "scaler = MinMaxScaler(feature_range=(0, 1))\n",
    "X_train = scaler.fit_transform(X_train)\n",
    "X_test = scaler.fit_transform(X_test)\n",
    "\n",
    "X_train = numpy.reshape(X_train, (X_train.shape[0], X_train.shape[1] , 1))\n",
    "X_test = numpy.reshape(X_test, (X_test.shape[0], X_test.shape[1] , 1))\n",
    "\n",
    "print(\"X_test set up\")"
   ]
  },
  {
   "cell_type": "code",
   "execution_count": 5,
   "metadata": {},
   "outputs": [
    {
     "name": "stdout",
     "output_type": "stream",
     "text": [
      "1220/1220 [==============================] - 4s 3ms/step - loss: 0.1718 - accuracy: 0.9390\n"
     ]
    },
    {
     "data": {
      "text/plain": [
       "[0.17176905274391174, 0.9390187859535217]"
      ]
     },
     "execution_count": 5,
     "metadata": {},
     "output_type": "execute_result"
    }
   ],
   "source": [
    "# load model\n",
    "from keras.models import load_model\n",
    "\n",
    "reconstructed_model = load_model('..\\model\\model_LSTM_CNN.h5')\n",
    "\n",
    "reconstructed_model.evaluate(X_test, y_test)"
   ]
  },
  {
   "cell_type": "code",
   "execution_count": 7,
   "metadata": {},
   "outputs": [
    {
     "name": "stdout",
     "output_type": "stream",
     "text": [
      "[[[0.17705439]\n",
      "  [0.05405405]\n",
      "  [0.6360601 ]\n",
      "  [0.08305648]\n",
      "  [0.46240197]]]\n",
      "1/1 [==============================] - 0s 24ms/step\n",
      "Formatted Number with percentage for class 0: 100.00%\n",
      "Formatted Number with percentage for class 1: 0.00%\n",
      "Formatted Number with percentage for class 2: 0.00%\n",
      " \n",
      "Formatted Number with percentage for class 0: 98.70%\n",
      "Formatted Number with percentage for class 1: 1.30%\n",
      "Formatted Number with percentage for class 2: 0.00%\n",
      " \n",
      "Formatted Number with percentage for class 0: 85.76%\n",
      "Formatted Number with percentage for class 1: 14.24%\n",
      "Formatted Number with percentage for class 2: 0.00%\n",
      " \n",
      "Formatted Number with percentage for class 0: 37.43%\n",
      "Formatted Number with percentage for class 1: 62.57%\n",
      "Formatted Number with percentage for class 2: 0.00%\n",
      " \n",
      "Formatted Number with percentage for class 0: 44.01%\n",
      "Formatted Number with percentage for class 1: 55.99%\n",
      "Formatted Number with percentage for class 2: 0.00%\n",
      " \n",
      "Formatted Number with percentage for class 0: 100.00%\n",
      "Formatted Number with percentage for class 1: 0.00%\n",
      "Formatted Number with percentage for class 2: 0.00%\n",
      " \n",
      "Formatted Number with percentage for class 0: 0.00%\n",
      "Formatted Number with percentage for class 1: 100.00%\n",
      "Formatted Number with percentage for class 2: 0.00%\n",
      " \n",
      "Formatted Number with percentage for class 0: 0.00%\n",
      "Formatted Number with percentage for class 1: 100.00%\n",
      "Formatted Number with percentage for class 2: 0.00%\n",
      " \n",
      "Formatted Number with percentage for class 0: 97.87%\n",
      "Formatted Number with percentage for class 1: 2.13%\n",
      "Formatted Number with percentage for class 2: 0.00%\n",
      " \n"
     ]
    }
   ],
   "source": [
    "print(X_test[0:1])\n",
    "y_pred = reconstructed_model.predict(X_test[0:9])\n",
    "\n",
    "for row in y_pred:\n",
    "    count = 0\n",
    "    for num in row:\n",
    "        print(\"Formatted Number with percentage for class \" + str(count) +\": \" + \"{:.2%}\".format(num))\n",
    "        count += 1\n",
    "    print(\" \")"
   ]
  }
 ],
 "metadata": {
  "kernelspec": {
   "display_name": "Python 3.10.2 64-bit",
   "language": "python",
   "name": "python3"
  },
  "language_info": {
   "codemirror_mode": {
    "name": "ipython",
    "version": 3
   },
   "file_extension": ".py",
   "mimetype": "text/x-python",
   "name": "python",
   "nbconvert_exporter": "python",
   "pygments_lexer": "ipython3",
   "version": "3.10.2"
  },
  "orig_nbformat": 4,
  "vscode": {
   "interpreter": {
    "hash": "16b7e214aa145f7720106a2cafcdd43ba3ba05cc8ef90356c3af2da1d208ebb5"
   }
  }
 },
 "nbformat": 4,
 "nbformat_minor": 2
}
